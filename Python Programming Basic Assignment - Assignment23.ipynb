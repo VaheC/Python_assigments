{
 "cells": [
  {
   "cell_type": "markdown",
   "metadata": {},
   "source": [
    "**Question 1**\n",
    "<br>Create a function that takes a number as an argument and returns True or False depending\n",
    "on whether the number is symmetrical or not. A number is symmetrical when it is the same as\n",
    "its reverse.\n",
    "<br>**Examples**\n",
    "<br>is_symmetrical(7227) ➞ True\n",
    "<br>is_symmetrical(12567) ➞ False\n",
    "<br>is_symmetrical(44444444) ➞ True\n",
    "<br>is_symmetrical(9939) ➞ False\n",
    "<br>is_symmetrical(1112111) ➞ True"
   ]
  },
  {
   "cell_type": "markdown",
   "metadata": {},
   "source": [
    "**Answer:**"
   ]
  },
  {
   "cell_type": "code",
   "execution_count": 2,
   "metadata": {},
   "outputs": [
    {
     "name": "stdout",
     "output_type": "stream",
     "text": [
      "True\n",
      "False\n",
      "True\n",
      "False\n",
      "True\n"
     ]
    }
   ],
   "source": [
    "def is_symmetrical(x):\n",
    "    new_x = int(''.join(list(str(x))[::-1]))\n",
    "    if x == new_x:\n",
    "        return True \n",
    "    else:\n",
    "        return False\n",
    "    \n",
    "for x in [7227, 12567, 44444444, 9939, 1112111]:\n",
    "    print(is_symmetrical(x))"
   ]
  },
  {
   "cell_type": "markdown",
   "metadata": {},
   "source": [
    "**Question 2**\n",
    "<br>Given a string of numbers separated by a comma and space, return the product of the\n",
    "numbers.\n",
    "<br>**Examples**\n",
    "<br>multiply_nums(\"2, 3\") ➞ 6\n",
    "<br>multiply_nums(\"1, 2, 3, 4\") ➞ 24\n",
    "<br>multiply_nums(\"54, 75, 453, 0\") ➞ 0\n",
    "<br>multiply_nums(\"10, -2\") ➞ -20"
   ]
  },
  {
   "cell_type": "markdown",
   "metadata": {},
   "source": [
    "**Answer:**"
   ]
  },
  {
   "cell_type": "code",
   "execution_count": 6,
   "metadata": {},
   "outputs": [
    {
     "name": "stdout",
     "output_type": "stream",
     "text": [
      "6\n",
      "24\n",
      "0\n",
      "-20\n"
     ]
    }
   ],
   "source": [
    "def multiply_nums(x):\n",
    "    import numpy as np\n",
    "    temp_list = [int(i) for i in x.split(', ')]\n",
    "    return np.cumprod(temp_list)[-1]\n",
    "\n",
    "for x in [\"2, 3\", \"1, 2, 3, 4\", \"54, 75, 453, 0\", \"10, -2\"]:\n",
    "    print(multiply_nums(x))"
   ]
  },
  {
   "cell_type": "markdown",
   "metadata": {},
   "source": [
    "**Question 3**\n",
    "<br>Create a function that squares every digit of a number.\n",
    "<br>**Examples**\n",
    "<br>square_digits(9119) ➞ 811181\n",
    "<br>square_digits(2483) ➞ 416649\n",
    "<br>square_digits(3212) ➞ 9414\n",
    "<br>\n",
    "<br>Notes\n",
    "<br>The function receives an integer and must return an integer."
   ]
  },
  {
   "cell_type": "markdown",
   "metadata": {},
   "source": [
    "**Answer:**"
   ]
  },
  {
   "cell_type": "code",
   "execution_count": 9,
   "metadata": {},
   "outputs": [
    {
     "name": "stdout",
     "output_type": "stream",
     "text": [
      "811181\n",
      "416649\n",
      "9414\n"
     ]
    }
   ],
   "source": [
    "def square_digits(x):\n",
    "    new_x = ''.join([str(int(i)**2) for i in list(str(x))])\n",
    "    return int(new_x)\n",
    "\n",
    "for x in [9119, 2483, 3212]:\n",
    "    print(square_digits(x))"
   ]
  },
  {
   "cell_type": "markdown",
   "metadata": {},
   "source": [
    "**Question 4**\n",
    "<br>Create a function that sorts a list and removes all duplicate items from it.\n",
    "<br>**Examples**\n",
    "<br>setify([1, 3, 3, 5, 5]) ➞ [1, 3, 5]\n",
    "<br>setify([4, 4, 4, 4]) ➞ [4]\n",
    "<br>setify([5, 7, 8, 9, 10, 15]) ➞ [5, 7, 8, 9, 10, 15]\n",
    "<br>setify([3, 3, 3, 2, 1]) ➞ [1, 2, 3]"
   ]
  },
  {
   "cell_type": "markdown",
   "metadata": {},
   "source": [
    "**Answer:**"
   ]
  },
  {
   "cell_type": "code",
   "execution_count": 8,
   "metadata": {},
   "outputs": [
    {
     "name": "stdout",
     "output_type": "stream",
     "text": [
      "[1, 3, 5]\n",
      "[4]\n",
      "[5, 7, 8, 9, 10, 15]\n",
      "[1, 2, 3]\n"
     ]
    }
   ],
   "source": [
    "def setify(x):\n",
    "    new_x = sorted(set(x))\n",
    "    return new_x\n",
    "\n",
    "for x in [[1, 3, 3, 5, 5], [4, 4, 4, 4], \n",
    "          [5, 7, 8, 9, 10, 15], [3, 3, 3, 2, 1]]:\n",
    "    print(setify(x))"
   ]
  },
  {
   "cell_type": "markdown",
   "metadata": {},
   "source": [
    "**Question 5**\n",
    "<br>Create a function that returns the mean of all digits.\n",
    "<br>Examples\n",
    "<br>mean(42) ➞ 3\n",
    "<br>mean(12345) ➞ 3\n",
    "<br>mean(666) ➞ 6\n",
    "<br>\n",
    "<br>Notes\n",
    "* The mean of all digits is the sum of digits / how many digits there are (e.g. mean of digits in\n",
    "512 is (5+1+2)/3(number of digits) = 8/3=2).\n",
    "* The mean will always be an integer."
   ]
  },
  {
   "cell_type": "markdown",
   "metadata": {},
   "source": [
    "**Answer:**"
   ]
  },
  {
   "cell_type": "code",
   "execution_count": 10,
   "metadata": {},
   "outputs": [
    {
     "name": "stdout",
     "output_type": "stream",
     "text": [
      "3\n",
      "3\n",
      "6\n"
     ]
    }
   ],
   "source": [
    "def mean(x):\n",
    "    temp_list = [int(i) for i in list(str(x))]\n",
    "    temp_sum = sum(temp_list)\n",
    "    temp_mean = int(temp_sum / len(temp_list))\n",
    "    return temp_mean\n",
    "\n",
    "for x in [42, 12345, 666]:\n",
    "    print(mean(x))"
   ]
  },
  {
   "cell_type": "code",
   "execution_count": null,
   "metadata": {},
   "outputs": [],
   "source": []
  }
 ],
 "metadata": {
  "kernelspec": {
   "display_name": "Python 3",
   "language": "python",
   "name": "python3"
  },
  "language_info": {
   "codemirror_mode": {
    "name": "ipython",
    "version": 3
   },
   "file_extension": ".py",
   "mimetype": "text/x-python",
   "name": "python",
   "nbconvert_exporter": "python",
   "pygments_lexer": "ipython3",
   "version": "3.8.5"
  }
 },
 "nbformat": 4,
 "nbformat_minor": 4
}

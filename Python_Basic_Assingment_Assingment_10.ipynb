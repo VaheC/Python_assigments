{
 "cells": [
  {
   "cell_type": "markdown",
   "metadata": {},
   "source": [
    "**1.** How do you distinguish between shutil.copy() and shutil.copytree()?"
   ]
  },
  {
   "cell_type": "markdown",
   "metadata": {},
   "source": [
    "**Answer:**\n",
    "<br> shutil.copy() copies only one file while shutil.copytree() copies entire folder with its subfolders and files."
   ]
  },
  {
   "cell_type": "markdown",
   "metadata": {},
   "source": [
    "**2.** What function is used to rename files?"
   ]
  },
  {
   "cell_type": "markdown",
   "metadata": {},
   "source": [
    "**Answer:** os.rename(old_name_here, new_name_here)"
   ]
  },
  {
   "cell_type": "markdown",
   "metadata": {},
   "source": [
    "**3.** What is the difference between the delete functions in the send2trash and shutil modules?"
   ]
  },
  {
   "cell_type": "markdown",
   "metadata": {},
   "source": [
    "**Answer:**\n",
    "<br> shutil's delete function removes files and folders permanently, while send2trash delete function moves them to recycle bin."
   ]
  },
  {
   "cell_type": "markdown",
   "metadata": {},
   "source": [
    "**4.** ZipFile objects have a close() method just like File objects’ close() method. What ZipFile method is\n",
    "equivalent to File objects’ open() method?"
   ]
  },
  {
   "cell_type": "markdown",
   "metadata": {},
   "source": [
    "**Answer:** ZipFile()"
   ]
  },
  {
   "cell_type": "markdown",
   "metadata": {},
   "source": [
    "**5.** Create a programme that searches a folder tree for files with a certain file extension (such as .pdf\n",
    "or .jpg). Copy these files from whatever location they are into a new folder."
   ]
  },
  {
   "cell_type": "markdown",
   "metadata": {},
   "source": [
    "**Answer:**"
   ]
  },
  {
   "cell_type": "code",
   "execution_count": 4,
   "metadata": {},
   "outputs": [],
   "source": [
    "import os\n",
    "import shutil\n",
    "\n",
    "# please specify file extension to search for below\n",
    "file_extension = '.pdf'\n",
    "\n",
    "# please specify a folder path where search will conducted\n",
    "path = 'C:\\\\Users\\\\Vahe\\\\Desktop\\\\ML Projects\\\\INeuron\\\\PhishingClassifier\\\\Documentation'\n",
    "\n",
    "# please specify a path to create a new folder to copy the searched files\n",
    "new_path = 'C:\\\\Users\\\\Vahe\\\\Desktop\\\\ML Projects\\\\INeuron\\\\PhishingClassifier'\n",
    "\n",
    "# please specify a folder name to create\n",
    "new_folder_name = 'SearchResult'\n",
    "\n",
    "searched_files = [i for i in os.listdir(path) if file_extension in i]\n",
    "\n",
    "os.chdir(new_path)\n",
    "os.mkdir(new_folder_name)\n",
    "\n",
    "for file in searched_files:\n",
    "    shutil.copy(src=os.path.join(path, file), dst=os.path.join(new_path, new_folder_name))"
   ]
  },
  {
   "cell_type": "code",
   "execution_count": null,
   "metadata": {},
   "outputs": [],
   "source": []
  }
 ],
 "metadata": {
  "kernelspec": {
   "display_name": "Python 3",
   "language": "python",
   "name": "python3"
  },
  "language_info": {
   "codemirror_mode": {
    "name": "ipython",
    "version": 3
   },
   "file_extension": ".py",
   "mimetype": "text/x-python",
   "name": "python",
   "nbconvert_exporter": "python",
   "pygments_lexer": "ipython3",
   "version": "3.8.5"
  }
 },
 "nbformat": 4,
 "nbformat_minor": 4
}

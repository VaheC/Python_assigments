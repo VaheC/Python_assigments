{
 "cells": [
  {
   "cell_type": "markdown",
   "metadata": {},
   "source": [
    "**1.** Add the current date to the text file today.txt as a string."
   ]
  },
  {
   "cell_type": "markdown",
   "metadata": {},
   "source": [
    "**Answer:**"
   ]
  },
  {
   "cell_type": "code",
   "execution_count": 1,
   "metadata": {},
   "outputs": [],
   "source": [
    "from datetime import datetime as dt\n",
    "with open('today.txt', 'w') as file:\n",
    "    file.write(f\"{dt.today().date()}\")"
   ]
  },
  {
   "cell_type": "markdown",
   "metadata": {},
   "source": [
    "**2.** Read the text file today.txt into the string today_string"
   ]
  },
  {
   "cell_type": "markdown",
   "metadata": {},
   "source": [
    "**Answer:**"
   ]
  },
  {
   "cell_type": "code",
   "execution_count": 2,
   "metadata": {},
   "outputs": [
    {
     "data": {
      "text/plain": [
       "'2022-03-31'"
      ]
     },
     "execution_count": 2,
     "metadata": {},
     "output_type": "execute_result"
    }
   ],
   "source": [
    "with open('today.txt', 'r') as file:\n",
    "    today_string = file.readlines()[0]\n",
    "\n",
    "today_string"
   ]
  },
  {
   "cell_type": "markdown",
   "metadata": {},
   "source": [
    "**3.** Parse the date from today_string."
   ]
  },
  {
   "cell_type": "markdown",
   "metadata": {},
   "source": [
    "**Answer:**"
   ]
  },
  {
   "cell_type": "code",
   "execution_count": 3,
   "metadata": {},
   "outputs": [
    {
     "data": {
      "text/plain": [
       "datetime.datetime(2022, 3, 31, 0, 0)"
      ]
     },
     "execution_count": 3,
     "metadata": {},
     "output_type": "execute_result"
    }
   ],
   "source": [
    "dt.strptime(today_string, \"%Y-%m-%d\")"
   ]
  },
  {
   "cell_type": "markdown",
   "metadata": {},
   "source": [
    "**4.** List the files in your current directory"
   ]
  },
  {
   "cell_type": "markdown",
   "metadata": {},
   "source": [
    "**Answer:**"
   ]
  },
  {
   "cell_type": "code",
   "execution_count": 4,
   "metadata": {},
   "outputs": [
    {
     "data": {
      "text/plain": [
       "['.git',\n",
       " '.ipynb_checkpoints',\n",
       " 'books.csv',\n",
       " 'books.db',\n",
       " 'LICENSE',\n",
       " 'Python Programming Basic Assignment - Assignment1.ipynb',\n",
       " 'Python Programming Basic Assignment - Assignment10.ipynb',\n",
       " 'Python Programming Basic Assignment - Assignment11.ipynb',\n",
       " 'Python Programming Basic Assignment - Assignment12.ipynb',\n",
       " 'Python Programming Basic Assignment - Assignment13.ipynb',\n",
       " 'Python Programming Basic Assignment - Assignment14.ipynb',\n",
       " 'Python Programming Basic Assignment - Assignment15.ipynb',\n",
       " 'Python Programming Basic Assignment - Assignment16.ipynb',\n",
       " 'Python Programming Basic Assignment - Assignment17.ipynb',\n",
       " 'Python Programming Basic Assignment - Assignment18.ipynb',\n",
       " 'Python Programming Basic Assignment - Assignment19.ipynb',\n",
       " 'Python Programming Basic Assignment - Assignment2.ipynb',\n",
       " 'Python Programming Basic Assignment - Assignment20.ipynb',\n",
       " 'Python Programming Basic Assignment - Assignment21.ipynb',\n",
       " 'Python Programming Basic Assignment - Assignment22.ipynb',\n",
       " 'Python Programming Basic Assignment - Assignment23.ipynb',\n",
       " 'Python Programming Basic Assignment - Assignment24.ipynb',\n",
       " 'Python Programming Basic Assignment - Assignment25.ipynb',\n",
       " 'Python Programming Basic Assignment - Assignment3.ipynb',\n",
       " 'Python Programming Basic Assignment - Assignment4.ipynb',\n",
       " 'Python Programming Basic Assignment - Assignment5.ipynb',\n",
       " 'Python Programming Basic Assignment - Assignment6.ipynb',\n",
       " 'Python Programming Basic Assignment - Assignment7.ipynb',\n",
       " 'Python Programming Basic Assignment - Assignment8.ipynb',\n",
       " 'Python Programming Basic Assignment - Assignment9.ipynb',\n",
       " 'Python_Basic_Assigment_Assigment_6.ipynb',\n",
       " 'Python_Basic_Assigment_Assigment_8.ipynb',\n",
       " 'Python_Basic_Assignment_Assigment_1.ipynb',\n",
       " 'Python_Basic_Assignment_Assigment_2.ipynb',\n",
       " 'Python_Basic_Assignment_Assigment_3.ipynb',\n",
       " 'Python_Basic_Assignment_Assigment_4.ipynb',\n",
       " 'Python_Basic_Assignment_Assigment_5.ipynb',\n",
       " 'Python_Basic_Assingment_Assingment_10.ipynb',\n",
       " 'Python_Basic_Assingment_Assingment_11.ipynb',\n",
       " 'Python_Basic_Assingment_Assingment_12.ipynb',\n",
       " 'Python_Basic_Assingment_Assingment_13.ipynb',\n",
       " 'Python_Basic_Assingment_Assingment_14.ipynb',\n",
       " 'Python_Basic_Assingment_Assingment_15.ipynb',\n",
       " 'Python_Basic_Assingment_Assingment_16.ipynb',\n",
       " 'Python_Basic_Assingment_Assingment_17.ipynb',\n",
       " 'Python_Basic_Assingment_Assingment_18.ipynb',\n",
       " 'Python_Basic_Assingment_Assingment_19.ipynb',\n",
       " 'Python_Basic_Assingment_Assingment_20.ipynb',\n",
       " 'Python_Basic_Assingment_Assingment_21.ipynb',\n",
       " 'Python_Basic_Assingment_Assingment_7.ipynb',\n",
       " 'Python_Basic_Assingment_Assingment_9.ipynb',\n",
       " 'README.md',\n",
       " 'test.txt',\n",
       " 'today.txt',\n",
       " 'zoo.py',\n",
       " '__pycache__']"
      ]
     },
     "execution_count": 4,
     "metadata": {},
     "output_type": "execute_result"
    }
   ],
   "source": [
    "import os\n",
    "os.listdir()"
   ]
  },
  {
   "cell_type": "markdown",
   "metadata": {},
   "source": [
    "**5.** Create a list of all of the files in your parent directory (minimum five files should be available)."
   ]
  },
  {
   "cell_type": "markdown",
   "metadata": {},
   "source": [
    "**Answer:**"
   ]
  },
  {
   "cell_type": "code",
   "execution_count": 5,
   "metadata": {},
   "outputs": [],
   "source": [
    "import os\n",
    "file_list = os.listdir()"
   ]
  },
  {
   "cell_type": "markdown",
   "metadata": {},
   "source": [
    "**6.** Use multiprocessing to create three separate processes. Make each one wait a random number of\n",
    "seconds between one and five, print the current time, and then exit."
   ]
  },
  {
   "cell_type": "markdown",
   "metadata": {},
   "source": [
    "**Answer:**"
   ]
  },
  {
   "cell_type": "code",
   "execution_count": 1,
   "metadata": {},
   "outputs": [],
   "source": [
    "with open('display_time.py', 'w') as file:\n",
    "    file.write(\"\"\"import time\n",
    "from datetime import datetime as dt\n",
    "def display_time(sleep_period):\n",
    "    time.sleep(sleep_period)\n",
    "    return dt.now().time()\n",
    "    \"\"\")"
   ]
  },
  {
   "cell_type": "code",
   "execution_count": 3,
   "metadata": {},
   "outputs": [
    {
     "name": "stdout",
     "output_type": "stream",
     "text": [
      "[datetime.time(10, 1, 28, 560772), datetime.time(10, 1, 25, 601893), datetime.time(10, 1, 25, 665661)]\n"
     ]
    }
   ],
   "source": [
    "import multiprocessing\n",
    "import random\n",
    "from display_time import display_time\n",
    "\n",
    "if __name__ ==  '__main__':\n",
    "    num_processors = 3\n",
    "    p=multiprocessing.Pool(3)\n",
    "    output = p.map(display_time,[random.randint(1, 5) for i in range(3)])\n",
    "    print(output)"
   ]
  },
  {
   "cell_type": "markdown",
   "metadata": {},
   "source": [
    "**7.** Create a date object of your day of birth."
   ]
  },
  {
   "cell_type": "markdown",
   "metadata": {},
   "source": [
    "**Answer:**"
   ]
  },
  {
   "cell_type": "code",
   "execution_count": 7,
   "metadata": {},
   "outputs": [],
   "source": [
    "from datetime import datetime as dt\n",
    "birthdate = dt(1987, 11, 15)"
   ]
  },
  {
   "cell_type": "markdown",
   "metadata": {},
   "source": [
    "**8.** What day of the week was your day of birth?"
   ]
  },
  {
   "cell_type": "markdown",
   "metadata": {},
   "source": [
    "**Answer:**"
   ]
  },
  {
   "cell_type": "code",
   "execution_count": 12,
   "metadata": {},
   "outputs": [
    {
     "data": {
      "text/plain": [
       "6"
      ]
     },
     "execution_count": 12,
     "metadata": {},
     "output_type": "execute_result"
    }
   ],
   "source": [
    "birthdate.weekday()"
   ]
  },
  {
   "cell_type": "markdown",
   "metadata": {},
   "source": [
    "**9.** When will you be (or when were you) 10,000 days old?"
   ]
  },
  {
   "cell_type": "markdown",
   "metadata": {},
   "source": [
    "**Answer:**"
   ]
  },
  {
   "cell_type": "code",
   "execution_count": 13,
   "metadata": {},
   "outputs": [
    {
     "data": {
      "text/plain": [
       "datetime.datetime(2015, 4, 2, 0, 0)"
      ]
     },
     "execution_count": 13,
     "metadata": {},
     "output_type": "execute_result"
    }
   ],
   "source": [
    "from datetime import timedelta\n",
    "from datetime import datetime as dt\n",
    "\n",
    "birthdate + timedelta(10000)"
   ]
  },
  {
   "cell_type": "code",
   "execution_count": null,
   "metadata": {},
   "outputs": [],
   "source": []
  }
 ],
 "metadata": {
  "kernelspec": {
   "display_name": "Python 3",
   "language": "python",
   "name": "python3"
  },
  "language_info": {
   "codemirror_mode": {
    "name": "ipython",
    "version": 3
   },
   "file_extension": ".py",
   "mimetype": "text/x-python",
   "name": "python",
   "nbconvert_exporter": "python",
   "pygments_lexer": "ipython3",
   "version": "3.8.5"
  }
 },
 "nbformat": 4,
 "nbformat_minor": 4
}

{
 "cells": [
  {
   "cell_type": "markdown",
   "metadata": {},
   "source": [
    "**Question1**\n",
    "<br>Create a function that takes three integer arguments (a, b, c) and returns the amount of\n",
    "integers which are of equal value.\n",
    "<br>Examples\n",
    "<br>equal(3, 4, 3) ➞ 2\n",
    "<br>equal(1, 1, 1) ➞ 3\n",
    "<br>equal(3, 4, 1) ➞ 0\n",
    "<br>\n",
    "<br>Notes\n",
    "<br>Your function must return 0, 2 or 3."
   ]
  },
  {
   "cell_type": "markdown",
   "metadata": {},
   "source": [
    "**Answer:**"
   ]
  },
  {
   "cell_type": "code",
   "execution_count": 2,
   "metadata": {},
   "outputs": [
    {
     "name": "stdout",
     "output_type": "stream",
     "text": [
      "2\n",
      "3\n",
      "0\n"
     ]
    }
   ],
   "source": [
    "def equal(a, b, c):\n",
    "    from collections import Counter\n",
    "    temp_dict = dict(Counter([a, b, c]))\n",
    "    temp_list = [temp_dict[i] for i in temp_dict if temp_dict[i]>1]\n",
    "    if len(temp_list) == 0:\n",
    "        return 0\n",
    "    else:\n",
    "        return temp_list[0]\n",
    "    \n",
    "for a, b, c in [(3, 4, 3), (1, 1, 1), (3, 4, 1)]:\n",
    "    print(equal(a, b, c))"
   ]
  },
  {
   "cell_type": "markdown",
   "metadata": {},
   "source": [
    "**Question2**\n",
    "<br>Write a function that converts a dictionary into a list of keys-values tuples.\n",
    "<br>Examples\n",
    "<br>dict_to_list({\n",
    "<br>\"D\": 1,\n",
    "<br>\"B\": 2,\n",
    "<br>\"C\": 3\n",
    "<br>}) ➞ [(\"B\", 2), (\"C\", 3), (\"D\", 1)]\n",
    "<br>dict_to_list({\n",
    "<br>\"likes\": 2,\n",
    "<br>\"dislikes\": 3,\n",
    "<br>\"followers\": 10\n",
    "<br>}) ➞ [(\"dislikes\", 3), (\"followers\", 10), (\"likes\", 2)]\n",
    "<br>\n",
    "<br>Notes\n",
    "<br>Return the elements in the list in alphabetical order."
   ]
  },
  {
   "cell_type": "markdown",
   "metadata": {},
   "source": [
    "**Answer:**"
   ]
  },
  {
   "cell_type": "code",
   "execution_count": 3,
   "metadata": {},
   "outputs": [
    {
     "name": "stdout",
     "output_type": "stream",
     "text": [
      "[('B', 2), ('C', 3), ('D', 1)]\n",
      "[('dislikes', 3), ('followers', 10), ('likes', 2)]\n"
     ]
    }
   ],
   "source": [
    "def dict_to_list(x):\n",
    "    return sorted(x.items(), key=lambda k: k[0])\n",
    "\n",
    "for x in [{\"D\": 1, \"B\": 2, \"C\": 3}, {\"likes\": 2, \"dislikes\": 3, \"followers\": 10}]:\n",
    "    print(dict_to_list(x))"
   ]
  },
  {
   "cell_type": "markdown",
   "metadata": {},
   "source": [
    "**Question3**\n",
    "<br>Write a function that creates a dictionary with each (key, value) pair being the (lower case,\n",
    "upper case) versions of a letter, respectively.\n",
    "<br>**Examples**\n",
    "<br>mapping([\"p\", \"s\"]) ➞ { \"p\": \"P\", \"s\": \"S\" }\n",
    "<br>mapping([\"a\", \"b\", \"c\"]) ➞ { \"a\": \"A\", \"b\": \"B\", \"c\": \"C\" }\n",
    "<br>mapping([\"a\", \"v\", \"y\", \"z\"]) ➞ { \"a\": \"A\", \"v\": \"V\", \"y\": \"Y\", \"z\": \"Z\" }\n",
    "<br>\n",
    "<br>Notes\n",
    "<br>All of the letters in the input list will always be lowercase."
   ]
  },
  {
   "cell_type": "markdown",
   "metadata": {},
   "source": [
    "**Answer:**"
   ]
  },
  {
   "cell_type": "code",
   "execution_count": 4,
   "metadata": {},
   "outputs": [
    {
     "name": "stdout",
     "output_type": "stream",
     "text": [
      "{'p': 'P', 's': 'S'}\n",
      "{'a': 'A', 'b': 'B', 'c': 'C'}\n",
      "{'a': 'A', 'v': 'V', 'y': 'Y', 'z': 'Z'}\n"
     ]
    }
   ],
   "source": [
    "def mapping(x):\n",
    "    return {i: i.upper() for i in x}\n",
    "\n",
    "for x in [[\"p\", \"s\"], [\"a\", \"b\", \"c\"], [\"a\", \"v\", \"y\", \"z\"]]:\n",
    "    print(mapping(x))"
   ]
  },
  {
   "cell_type": "markdown",
   "metadata": {},
   "source": [
    "**Question4**\n",
    "<br>Write a function, that replaces all vowels in a string with a specified vowel.\n",
    "<br>**Examples**\n",
    "<br>vow_replace(\"apples and bananas\", \"u\") ➞ \"upplus und bununus\"\n",
    "<br>vow_replace(\"cheese casserole\", \"o\") ➞ \"chooso cossorolo\"\n",
    "<br>vow_replace(\"stuffed jalapeno poppers\", \"e\") ➞ \"steffed jelepene peppers\"\n",
    "<br>\n",
    "<br>Notes\n",
    "<br>All words will be lowercase. Y is not considered a vowel."
   ]
  },
  {
   "cell_type": "markdown",
   "metadata": {},
   "source": [
    "**Answer:**"
   ]
  },
  {
   "cell_type": "code",
   "execution_count": 5,
   "metadata": {},
   "outputs": [
    {
     "name": "stdout",
     "output_type": "stream",
     "text": [
      "upplus und bununus\n",
      "chooso cossorolo\n",
      "steffed jelepene peppers\n"
     ]
    }
   ],
   "source": [
    "def vow_replace(x_text, x_vowel):\n",
    "    temp_list = [x_vowel if i in ['a', 'e', 'i', 'o', 'u'] \n",
    "                 else i for i in list(x_text)]\n",
    "    return ''.join(temp_list)\n",
    "\n",
    "for x_text, x_vowel in [(\"apples and bananas\", \"u\"), \n",
    "                        (\"cheese casserole\", \"o\"), \n",
    "                        (\"stuffed jalapeno poppers\", \"e\")]:\n",
    "    print(vow_replace(x_text, x_vowel))"
   ]
  },
  {
   "cell_type": "markdown",
   "metadata": {},
   "source": [
    "**Question5**\n",
    "<br>Create a function that takes a string as input and capitalizes a letter if its ASCII code is even\n",
    "and returns its lower case version if its ASCII code is odd.\n",
    "<br>**Examples**\n",
    "<br>ascii_capitalize(\"to be or not to be!\") ➞ \"To Be oR NoT To Be!\"\n",
    "<br>ascii_capitalize(\"THE LITTLE MERMAID\") ➞ \"THe LiTTLe meRmaiD\"\n",
    "<br>ascii_capitalize(\"Oh what a beautiful morning.\") ➞ \"oH wHaT a BeauTiFuL\n",
    "moRNiNg.\""
   ]
  },
  {
   "cell_type": "markdown",
   "metadata": {},
   "source": [
    "**Answer:**"
   ]
  },
  {
   "cell_type": "code",
   "execution_count": 8,
   "metadata": {},
   "outputs": [
    {
     "name": "stdout",
     "output_type": "stream",
     "text": [
      "To Be oR NoT To Be!\n",
      "THe LiTTLe meRmaiD\n",
      "oH wHaT a BeauTiFuL moRNiNg.\n"
     ]
    }
   ],
   "source": [
    "def ascii_capitalize(x):\n",
    "    temp_list = [i.upper() if ord(i)%2==0 else i.lower() for i in list(x)]\n",
    "    return ''.join(temp_list)\n",
    "\n",
    "for x in [\"to be or not to be!\", \"THE LITTLE MERMAID\", \"Oh what a beautiful morning.\"]:\n",
    "    print(ascii_capitalize(x))"
   ]
  },
  {
   "cell_type": "code",
   "execution_count": null,
   "metadata": {},
   "outputs": [],
   "source": []
  }
 ],
 "metadata": {
  "kernelspec": {
   "display_name": "Python 3",
   "language": "python",
   "name": "python3"
  },
  "language_info": {
   "codemirror_mode": {
    "name": "ipython",
    "version": 3
   },
   "file_extension": ".py",
   "mimetype": "text/x-python",
   "name": "python",
   "nbconvert_exporter": "python",
   "pygments_lexer": "ipython3",
   "version": "3.8.5"
  }
 },
 "nbformat": 4,
 "nbformat_minor": 4
}

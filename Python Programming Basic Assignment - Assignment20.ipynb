{
 "cells": [
  {
   "cell_type": "markdown",
   "metadata": {},
   "source": [
    "**Question1**\n",
    "<br>Create a function that takes a list of strings and integers, and filters out the list so that it\n",
    "returns a list of integers only.\n",
    "<br>**Examples**\n",
    "<br>filter_list([1, 2, 3, \"a\", \"b\", 4]) ➞ [1, 2, 3, 4]\n",
    "<br>filter_list([\"A\", 0, \"Edabit\", 1729, \"Python\", \"1729\"]) ➞ [0, 1729]\n",
    "<br>filter_list([\"Nothing\", \"here\"]) ➞ []"
   ]
  },
  {
   "cell_type": "markdown",
   "metadata": {},
   "source": [
    "**Answer:**"
   ]
  },
  {
   "cell_type": "code",
   "execution_count": 2,
   "metadata": {},
   "outputs": [
    {
     "name": "stdout",
     "output_type": "stream",
     "text": [
      "[1, 2, 3, 4]\n",
      "[0, 1729]\n",
      "[]\n"
     ]
    }
   ],
   "source": [
    "def filter_list(x):\n",
    "    temp_list = list(x)\n",
    "    temp_list  = [i for i in temp_list if isinstance(i, int)]\n",
    "    return temp_list\n",
    "\n",
    "for x in [[1, 2, 3, \"a\", \"b\", 4], [\"A\", 0, \"Edabit\", 1729, \"Python\", \"1729\"], [\"Nothing\", \"here\"]]:\n",
    "    print(filter_list(x))"
   ]
  },
  {
   "cell_type": "markdown",
   "metadata": {},
   "source": [
    "**Question2**\n",
    "<br>Given a list of numbers, create a function which returns the list but with each element's\n",
    "index in the list added to itself. This means you add 0 to the number at index 0, add 1 to the\n",
    "number at index 1, etc...\n",
    "<br>**Examples**\n",
    "<br>add_indexes([0, 0, 0, 0, 0]) ➞ [0, 1, 2, 3, 4]\n",
    "<br>add_indexes([1, 2, 3, 4, 5]) ➞ [1, 3, 5, 7, 9]\n",
    "<br>add_indexes([5, 4, 3, 2, 1]) ➞ [5, 5, 5, 5, 5]"
   ]
  },
  {
   "cell_type": "markdown",
   "metadata": {},
   "source": [
    "**Answer:**"
   ]
  },
  {
   "cell_type": "code",
   "execution_count": 4,
   "metadata": {},
   "outputs": [
    {
     "name": "stdout",
     "output_type": "stream",
     "text": [
      "[0, 1, 2, 3, 4]\n",
      "[1, 3, 5, 7, 9]\n",
      "[5, 5, 5, 5, 5]\n"
     ]
    }
   ],
   "source": [
    "def add_indexes(x):\n",
    "    temp_list = [i+x[i] for i in range(len(x))]\n",
    "    return temp_list\n",
    "\n",
    "for x in [[0, 0, 0, 0, 0], [1, 2, 3, 4, 5], [5, 4, 3, 2, 1]]:\n",
    "    print(add_indexes(x))"
   ]
  },
  {
   "cell_type": "markdown",
   "metadata": {},
   "source": [
    "**Question3**\n",
    "<br>Create a function that takes the height and radius of a cone as arguments and returns the\n",
    "volume of the cone rounded to the nearest hundredth. See the resources tab for the formula.\n",
    "<br>**Examples**\n",
    "<br>cone_volume(3, 2) ➞ 12.57\n",
    "<br>cone_volume(15, 6) ➞ 565.49\n",
    "<br>cone_volume(18, 0) ➞ 0"
   ]
  },
  {
   "cell_type": "markdown",
   "metadata": {},
   "source": [
    "**Answer:**"
   ]
  },
  {
   "cell_type": "code",
   "execution_count": 8,
   "metadata": {},
   "outputs": [
    {
     "name": "stdout",
     "output_type": "stream",
     "text": [
      "12.57\n",
      "565.49\n",
      "0.0\n"
     ]
    }
   ],
   "source": [
    "def cone_volume(height, radius):\n",
    "    from math import pi\n",
    "    volume = round(pi*radius**2*height/3, 2)\n",
    "    return volume\n",
    "\n",
    "for elem in [(3, 2) , (15, 6), (18, 0)]:\n",
    "    print(cone_volume(height=elem[0], radius=elem[1]))"
   ]
  },
  {
   "cell_type": "markdown",
   "metadata": {},
   "source": [
    "**Question4**\n",
    "<br>This Triangular Number Sequence is generated from a pattern of dots that form a triangle.\n",
    "The first 5 numbers of the sequence, or dots, are:\n",
    "<br>1, 3, 6, 10, 15\n",
    "<br>This means that the first triangle has just one dot, the second one has three dots, the third one\n",
    "has 6 dots and so on.\n",
    "<br>Write a function that gives the number of dots with its corresponding triangle number of the\n",
    "sequence.\n",
    "<br>**Examples**\n",
    "<br>triangle(1) ➞ 1\n",
    "<br>triangle(6) ➞ 21\n",
    "<br>triangle(215) ➞ 23220"
   ]
  },
  {
   "cell_type": "markdown",
   "metadata": {},
   "source": [
    "**Answer:**"
   ]
  },
  {
   "cell_type": "code",
   "execution_count": 11,
   "metadata": {},
   "outputs": [
    {
     "name": "stdout",
     "output_type": "stream",
     "text": [
      "1\n",
      "21\n",
      "23220\n"
     ]
    }
   ],
   "source": [
    "def triangle(x):\n",
    "    if x == 1:\n",
    "        return 1\n",
    "    else:\n",
    "        return triangle(x-1) + x\n",
    "    \n",
    "for i in [1, 6, 215]:\n",
    "    print(triangle(i))"
   ]
  },
  {
   "cell_type": "markdown",
   "metadata": {},
   "source": [
    "**Question5**\n",
    "<br>Create a function that takes a list of numbers between 1 and 10 (excluding one number) and\n",
    "returns the missing number.\n",
    "<br>**Examples**\n",
    "<br>missing_num([1, 2, 3, 4, 6, 7, 8, 9, 10]) ➞ 5\n",
    "<br>missing_num([7, 2, 3, 6, 5, 9, 1, 4, 8]) ➞ 10\n",
    "<br>missing_num([10, 5, 1, 2, 4, 6, 8, 3, 9]) ➞ 7"
   ]
  },
  {
   "cell_type": "markdown",
   "metadata": {},
   "source": [
    "**Answer:**"
   ]
  },
  {
   "cell_type": "code",
   "execution_count": 9,
   "metadata": {},
   "outputs": [
    {
     "name": "stdout",
     "output_type": "stream",
     "text": [
      "5\n",
      "10\n",
      "7\n"
     ]
    }
   ],
   "source": [
    "def missing_num(x):\n",
    "    return [i for i in range(1, 11) if i not in x][0]\n",
    "\n",
    "for x in [[1, 2, 3, 4, 6, 7, 8, 9, 10], [7, 2, 3, 6, 5, 9, 1, 4, 8], [10, 5, 1, 2, 4, 6, 8, 3, 9]]:\n",
    "    print(missing_num(x))"
   ]
  },
  {
   "cell_type": "code",
   "execution_count": null,
   "metadata": {},
   "outputs": [],
   "source": []
  }
 ],
 "metadata": {
  "kernelspec": {
   "display_name": "Python 3",
   "language": "python",
   "name": "python3"
  },
  "language_info": {
   "codemirror_mode": {
    "name": "ipython",
    "version": 3
   },
   "file_extension": ".py",
   "mimetype": "text/x-python",
   "name": "python",
   "nbconvert_exporter": "python",
   "pygments_lexer": "ipython3",
   "version": "3.8.5"
  }
 },
 "nbformat": 4,
 "nbformat_minor": 4
}

{
 "cells": [
  {
   "cell_type": "markdown",
   "metadata": {},
   "source": [
    "**Question 1:**\n",
    "<br>Write a program that calculates and prints the value according to the given formula:\n",
    "<br>Q = Square root of [(2 * C * D)/H]\n",
    "<br>Following are the fixed values of C and H:\n",
    "<br>C is 50. H is 30.\n",
    "<br>D is the variable whose values should be input to your program in a comma-separated\n",
    "sequence.\n",
    "<br>**Example**\n",
    "<br>Let us assume the following comma separated input sequence is given to the program:\n",
    "100,150,180\n",
    "<br>The output of the program should be:\n",
    "18,22,24"
   ]
  },
  {
   "cell_type": "markdown",
   "metadata": {},
   "source": [
    "**Answer**"
   ]
  },
  {
   "cell_type": "code",
   "execution_count": 9,
   "metadata": {},
   "outputs": [
    {
     "name": "stdout",
     "output_type": "stream",
     "text": [
      "18,22,24\n"
     ]
    }
   ],
   "source": [
    "C = 50\n",
    "H = 30\n",
    "D = 100,150,180\n",
    "Q_list = [str(int((2 * C * d / H) ** 0.5)) for d in D]\n",
    "print(','.join(Q_list))"
   ]
  },
  {
   "cell_type": "markdown",
   "metadata": {},
   "source": [
    "**Question 2:**\n",
    "<br>Write a program which takes 2 digits, X,Y as input and generates a 2-dimensional array. The\n",
    "element value in the i-th row and j-th column of the array should be i\\*j.\n",
    "<br>Note: i=0,1...,X-1; j=0,1,...,Y-1.\n",
    "<br>**Example**\n",
    "<br>Suppose the following inputs are given to the program:\n",
    "<br>3,5\n",
    "<br>Then, the output of the program should be:\n",
    "<br>[[0, 0, 0, 0, 0], [0, 1, 2, 3, 4], [0, 2, 4, 6, 8]]"
   ]
  },
  {
   "cell_type": "markdown",
   "metadata": {},
   "source": [
    "**Answer**"
   ]
  },
  {
   "cell_type": "code",
   "execution_count": 10,
   "metadata": {},
   "outputs": [
    {
     "data": {
      "text/plain": [
       "[[0, 0, 0, 0, 0], [0, 1, 2, 3, 4], [0, 2, 4, 6, 8]]"
      ]
     },
     "execution_count": 10,
     "metadata": {},
     "output_type": "execute_result"
    }
   ],
   "source": [
    "X = 3\n",
    "Y = 5\n",
    "[[i*j for j in range(Y)] for i in range(X)]"
   ]
  },
  {
   "cell_type": "markdown",
   "metadata": {},
   "source": [
    "**Question 3:**\n",
    "<br>Write a program that accepts a comma separated sequence of words as input and prints the\n",
    "words in a comma-separated sequence after sorting them alphabetically.\n",
    "<br>Suppose the following input is supplied to the program:\n",
    "<br>without,hello,bag,world\n",
    "<br>Then, the output should be:\n",
    "<br>bag,hello,without,world"
   ]
  },
  {
   "cell_type": "markdown",
   "metadata": {},
   "source": [
    "**Answer**"
   ]
  },
  {
   "cell_type": "code",
   "execution_count": 12,
   "metadata": {},
   "outputs": [
    {
     "name": "stdout",
     "output_type": "stream",
     "text": [
      "bag,hello,without,world\n"
     ]
    }
   ],
   "source": [
    "txt = 'without,hello,bag,world'\n",
    "print(','.join(sorted(txt.split(','))))"
   ]
  },
  {
   "cell_type": "markdown",
   "metadata": {},
   "source": [
    "**Question 4:**\n",
    "<br>Write a program that accepts a sequence of whitespace separated words as input and prints\n",
    "the words after removing all duplicate words and sorting them alphanumerically.\n",
    "<br>Suppose the following input is supplied to the program:\n",
    "<br>hello world and practice makes perfect and hello world again\n",
    "<br>Then, the output should be:\n",
    "<br>again and hello makes perfect practice world"
   ]
  },
  {
   "cell_type": "markdown",
   "metadata": {},
   "source": [
    "**Answer**"
   ]
  },
  {
   "cell_type": "code",
   "execution_count": 14,
   "metadata": {},
   "outputs": [
    {
     "name": "stdout",
     "output_type": "stream",
     "text": [
      "again and hello makes perfect practice world\n"
     ]
    }
   ],
   "source": [
    "txt = 'hello world and practice makes perfect and hello world again'\n",
    "print(' '.join(sorted(list(set(txt.split(' '))))))"
   ]
  },
  {
   "cell_type": "markdown",
   "metadata": {},
   "source": [
    "**Question 5:**\n",
    "<br>Write a program that accepts a sentence and calculate the number of letters and digits.\n",
    "<br>Suppose the following input is supplied to the program:\n",
    "<br>hello world! 123\n",
    "<br>Then, the output should be:\n",
    "<br>LETTERS 10\n",
    "<br>DIGITS 3"
   ]
  },
  {
   "cell_type": "markdown",
   "metadata": {},
   "source": [
    "**Answer**"
   ]
  },
  {
   "cell_type": "code",
   "execution_count": 15,
   "metadata": {},
   "outputs": [
    {
     "name": "stdout",
     "output_type": "stream",
     "text": [
      "LETTERS 10\n",
      "DIGITS 3\n"
     ]
    }
   ],
   "source": [
    "txt = 'hello world! 123'\n",
    "n_letters = 0\n",
    "n_digits = 0\n",
    "for i in list(txt):\n",
    "    if i.isnumeric():\n",
    "        n_digits += 1\n",
    "    elif i.isalpha():\n",
    "        n_letters += 1\n",
    "    else:\n",
    "        pass\n",
    "    \n",
    "print(f\"LETTERS {n_letters}\")\n",
    "print(f\"DIGITS {n_digits}\")"
   ]
  },
  {
   "cell_type": "markdown",
   "metadata": {},
   "source": [
    "**Question 6:**\n",
    "<br>A website requires the users to input username and password to register. Write a program to\n",
    "check the validity of password input by users.\n",
    "<br>Following are the criteria for checking the password:\n",
    "<br>1. At least 1 letter between [a-z]\n",
    "<br>2. At least 1 number between [0-9]\n",
    "<br>1. At least 1 letter between [A-Z]\n",
    "<br>3. At least 1 character from [$#@]\n",
    "<br>4. Minimum length of transaction password: 6\n",
    "<br>5. Maximum length of transaction password: 12\n",
    "<br>Your program should accept a sequence of comma separated passwords and will check them\n",
    "according to the above criteria. Passwords that match the criteria are to be printed, each\n",
    "separated by a comma.\n",
    "<br>**Example**\n",
    "<br>If the following passwords are given as input to the program:\n",
    "<br>ABd1234@1,a F1#,2w3E*,2We3345\n",
    "<br>Then, the output of the program should be:\n",
    "<br>ABd1234@1"
   ]
  },
  {
   "cell_type": "markdown",
   "metadata": {},
   "source": [
    "**Answer**"
   ]
  },
  {
   "cell_type": "code",
   "execution_count": 18,
   "metadata": {},
   "outputs": [
    {
     "name": "stdout",
     "output_type": "stream",
     "text": [
      "ABd1234@1\n"
     ]
    }
   ],
   "source": [
    "txt = \"ABd1234@1,a F1#,2w3E*,2We3345\"\n",
    "\n",
    "p_list = txt.split(',')\n",
    "correct_p_list = []\n",
    "for p in p_list:\n",
    "    if len(p) >= 6 and len(p) <= 12:\n",
    "        if sum([1 if i.isnumeric() else 0 for i in list(p)]) >= 1:\n",
    "            if sum([1 if i in ['$', '#', '@'] else 0 for i in list(p)]) >= 1:\n",
    "                if sum([1 if i.isupper() else 0 for i in list(p)]) >= 1:\n",
    "                    if sum([1 if i.islower() else 0 for i in list(p)]) >= 1:\n",
    "                        correct_p_list.append(p)\n",
    "                    else:\n",
    "                        pass\n",
    "                else:\n",
    "                    pass\n",
    "            else:\n",
    "                pass\n",
    "        else:\n",
    "            pass\n",
    "    else:\n",
    "        pass\n",
    "    \n",
    "print(','.join(correct_p_list))"
   ]
  },
  {
   "cell_type": "code",
   "execution_count": null,
   "metadata": {},
   "outputs": [],
   "source": []
  }
 ],
 "metadata": {
  "kernelspec": {
   "display_name": "Python 3",
   "language": "python",
   "name": "python3"
  },
  "language_info": {
   "codemirror_mode": {
    "name": "ipython",
    "version": 3
   },
   "file_extension": ".py",
   "mimetype": "text/x-python",
   "name": "python",
   "nbconvert_exporter": "python",
   "pygments_lexer": "ipython3",
   "version": "3.8.5"
  }
 },
 "nbformat": 4,
 "nbformat_minor": 4
}

{
 "cells": [
  {
   "cell_type": "markdown",
   "metadata": {},
   "source": [
    "**Question1.** Create a function that takes three arguments a, b, c and returns the sum of the\n",
    "numbers that are evenly divided by c from the range a, b inclusive.\n",
    "\n",
    "<br>**Examples**\n",
    "<br>evenly_divisible(1, 10, 20) ➞ 0\n",
    "<br># No number between 1 and 10 can be evenly divided by 20.\n",
    "<br>\n",
    "<br>evenly_divisible(1, 10, 2) ➞ 30\n",
    "<br># 2 + 4 + 6 + 8 + 10 = 30\n",
    "<br>\n",
    "<br>evenly_divisible(1, 10, 3) ➞ 18\n",
    "<br># 3 + 6 + 9 = 18"
   ]
  },
  {
   "cell_type": "markdown",
   "metadata": {},
   "source": [
    "**Answer:**"
   ]
  },
  {
   "cell_type": "code",
   "execution_count": 10,
   "metadata": {},
   "outputs": [
    {
     "name": "stdout",
     "output_type": "stream",
     "text": [
      "0\n",
      "30\n",
      "18\n"
     ]
    }
   ],
   "source": [
    "def evenly_divisible(a, b, c):\n",
    "    sum = 0\n",
    "    for i in range(a, b+1):\n",
    "        if i % c == 0:\n",
    "            sum += i\n",
    "    return sum\n",
    "\n",
    "for elem in [(1, 10, 20), (1, 10, 2), (1, 10, 3)]:\n",
    "    print(evenly_divisible(a=elem[0], b=elem[1], c=elem[2]))"
   ]
  },
  {
   "cell_type": "markdown",
   "metadata": {},
   "source": [
    "**Question2.** Create a function that returns True if a given inequality expression is correct and\n",
    "False otherwise.\n",
    "<br>**Examples**\n",
    "<br>correct_signs(\"3 < 7 < 11\") ➞ True\n",
    "<br>\n",
    "<br>correct_signs(\"13 > 44 > 33 > 1\") ➞ False\n",
    "<br>\n",
    "<br>correct_signs(\"1 < 2 < 6 < 9 > 3\") ➞ True"
   ]
  },
  {
   "cell_type": "markdown",
   "metadata": {},
   "source": [
    "**Answer:**"
   ]
  },
  {
   "cell_type": "code",
   "execution_count": 11,
   "metadata": {},
   "outputs": [
    {
     "name": "stdout",
     "output_type": "stream",
     "text": [
      "True\n",
      "False\n",
      "True\n"
     ]
    }
   ],
   "source": [
    "import re\n",
    "\n",
    "def correct_signs(expression):\n",
    "    elem_list = re.findall(r'(\\d+ \\> \\d+)|(\\d+ \\< \\d+)', expression)\n",
    "    elem_list = [''.join(list(elem)).replace(' ', '') for elem in elem_list]\n",
    "    for elem in elem_list:\n",
    "        if '>' in elem:\n",
    "            temp_split = elem.split('>')\n",
    "            if temp_split[0] > temp_split[1]:\n",
    "                pass\n",
    "            else:\n",
    "                return False\n",
    "        elif '<' in elem:\n",
    "            temp_split = elem.split('<')\n",
    "            if temp_split[0] < temp_split[1]:\n",
    "                pass\n",
    "            else:\n",
    "                return False\n",
    "    return True\n",
    "\n",
    "for text in [\"3 < 7 < 11\", \"13 > 44 > 33 > 1\", \"1 < 2 < 6 < 9 > 3\"]:\n",
    "    print(correct_signs(text))"
   ]
  },
  {
   "cell_type": "markdown",
   "metadata": {},
   "source": [
    "**Question3.** Create a function that replaces all the vowels in a string with a specified character.\n",
    "<br>**Examples**\n",
    "<br>replace_vowels(\"the aardvark\", \"#\") ➞ \"th# ##rdv#rk\"\n",
    "<br>\n",
    "<br>replace_vowels(\"minnie mouse\", \"?\") ➞ \"m?nn?? m??s?\"\n",
    "<br>\n",
    "<br>replace_vowels(\"shakespeare\", \"*\") ➞ \"sh\\*k\\*sp\\*\\*r\\*\""
   ]
  },
  {
   "cell_type": "markdown",
   "metadata": {},
   "source": [
    "**Answer:**"
   ]
  },
  {
   "cell_type": "code",
   "execution_count": 13,
   "metadata": {},
   "outputs": [
    {
     "name": "stdout",
     "output_type": "stream",
     "text": [
      "th# ##rdv#rk\n",
      "m?nn?? m??s?\n",
      "sh*k*sp**r*\n"
     ]
    }
   ],
   "source": [
    "def replace_vowels(text, char):\n",
    "    for vowel in ['a', 'e', 'i', 'o', 'u']:\n",
    "        text = text.replace(vowel, char)\n",
    "    return text\n",
    "\n",
    "for elem in [(\"the aardvark\", \"#\"), (\"minnie mouse\", \"?\"), (\"shakespeare\", \"*\")]:\n",
    "    print(replace_vowels(text=elem[0], char=elem[1]))"
   ]
  },
  {
   "cell_type": "markdown",
   "metadata": {},
   "source": [
    "**Question4.** Write a function that calculates the factorial of a number recursively.\n",
    "<br>**Examples**\n",
    "<br>factorial(5) ➞ 120\n",
    "<br>factorial(3) ➞ 6\n",
    "<br>factorial(1) ➞ 1\n",
    "<br>factorial(0) ➞ 1"
   ]
  },
  {
   "cell_type": "markdown",
   "metadata": {},
   "source": [
    "**Answer:**"
   ]
  },
  {
   "cell_type": "code",
   "execution_count": 9,
   "metadata": {},
   "outputs": [
    {
     "name": "stdout",
     "output_type": "stream",
     "text": [
      "120\n",
      "6\n",
      "1\n",
      "1\n"
     ]
    }
   ],
   "source": [
    "def factorial(x):\n",
    "    if x == 0:\n",
    "        return 1\n",
    "    else:\n",
    "        return factorial(x-1) * x\n",
    "\n",
    "for i in [5, 3, 1, 0]:\n",
    "    print(factorial(i))"
   ]
  },
  {
   "cell_type": "markdown",
   "metadata": {},
   "source": [
    "**Question 5** Hamming distance is the number of characters that differ between two strings.\n",
    "<br>To illustrate:\n",
    "<br>String1: \"abcbba\"\n",
    "<br>String2: \"abcbda\"\n",
    "<br>Hamming Distance: 1 - \"b\" vs. \"d\" is the only difference.\n",
    "<br>Create a function that computes the hamming distance between two strings.\n",
    "<br>**Examples**\n",
    "<br>hamming_distance(\"abcde\", \"bcdef\") ➞ 5\n",
    "<br>hamming_distance(\"abcde\", \"abcde\") ➞ 0\n",
    "<br>hamming_distance(\"strong\", \"strung\") ➞ 1"
   ]
  },
  {
   "cell_type": "markdown",
   "metadata": {},
   "source": [
    "**Answer:**"
   ]
  },
  {
   "cell_type": "code",
   "execution_count": 14,
   "metadata": {},
   "outputs": [
    {
     "name": "stdout",
     "output_type": "stream",
     "text": [
      "5\n",
      "0\n",
      "1\n"
     ]
    }
   ],
   "source": [
    "def hamming_distance(text1, text2):\n",
    "    distance = 0\n",
    "    for i in range(len(text1)):\n",
    "        if text1[i] == text2[i]:\n",
    "            pass\n",
    "        else:\n",
    "             distance += 1\n",
    "    return distance\n",
    "\n",
    "for elem in [(\"abcde\", \"bcdef\"), (\"abcde\", \"abcde\"), (\"strong\", \"strung\")]:\n",
    "    print(hamming_distance(text1=elem[0], text2=elem[1]))"
   ]
  },
  {
   "cell_type": "code",
   "execution_count": null,
   "metadata": {},
   "outputs": [],
   "source": []
  }
 ],
 "metadata": {
  "kernelspec": {
   "display_name": "Python 3",
   "language": "python",
   "name": "python3"
  }
 },
 "nbformat": 4,
 "nbformat_minor": 4
}

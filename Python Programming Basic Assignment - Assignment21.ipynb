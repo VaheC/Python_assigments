{
 "cells": [
  {
   "cell_type": "markdown",
   "metadata": {},
   "source": [
    "**Question1**\n",
    "<br>Write a function that takes a list and a number as arguments. Add the number to the end of\n",
    "the list, then remove the first element of the list. The function should then return the updated\n",
    "list.\n",
    "<br>**Examples**\n",
    "<br>next_in_line([5, 6, 7, 8, 9], 1) ➞ [6, 7, 8, 9, 1]\n",
    "<br>next_in_line([7, 6, 3, 23, 17], 10) ➞ [6, 3, 23, 17, 10]\n",
    "<br>next_in_line([1, 10, 20, 42 ], 6) ➞ [10, 20, 42, 6]\n",
    "<br>next_in_line([], 6) ➞ \"No list has been selected\""
   ]
  },
  {
   "cell_type": "markdown",
   "metadata": {},
   "source": [
    "**Answer:**"
   ]
  },
  {
   "cell_type": "code",
   "execution_count": 3,
   "metadata": {},
   "outputs": [
    {
     "name": "stdout",
     "output_type": "stream",
     "text": [
      "[6, 7, 8, 9, 1]\n",
      "[6, 3, 23, 17, 10]\n",
      "[10, 20, 42, 6]\n",
      "No list has been selected\n"
     ]
    }
   ],
   "source": [
    "def next_in_line(x_list, x):\n",
    "    if len(x_list) == 0:\n",
    "        return \"No list has been selected\"\n",
    "    else:\n",
    "        new_list = x_list[1:]\n",
    "        new_list.append(x)\n",
    "        return new_list\n",
    "\n",
    "for x_list, x in [([5, 6, 7, 8, 9], 1), ([7, 6, 3, 23, 17], 10), ([1, 10, 20, 42 ], 6), ([], 6)]:\n",
    "    print(next_in_line(x_list, x))"
   ]
  },
  {
   "cell_type": "markdown",
   "metadata": {},
   "source": [
    "**Question2**\n",
    "<br>Create the function that takes a list of dictionaries and returns the sum of people&#39;s budgets.\n",
    "<br>**Examples**\n",
    "<br>get_budgets([\n",
    "<br>{ \"name\": \"John\", \"age\": 21, \"budget\": 23000 },\n",
    "<br>{ \"name\": \"Steve\", \"age\": 32, \"budget\": 40000 },\n",
    "<br>{ \"name\": \"Martin\", \"age\": 16, \"budget\": 2700 }\n",
    "<br>]) ➞ 65700\n",
    "<br>get_budgets([\n",
    "<br>{ \"name\": \"John\", \"age\": 21, \"budget\": 29000 },\n",
    "<br>{ \"name\": \"Steve\", \"age\": 32, \"budget\": 32000 },\n",
    "<br>{ \"name\": \"Martin\", \"age\": 16, \"budget\": 1600 }\n",
    "<br>]) ➞ 62600"
   ]
  },
  {
   "cell_type": "markdown",
   "metadata": {},
   "source": [
    "**Answer:**"
   ]
  },
  {
   "cell_type": "code",
   "execution_count": 4,
   "metadata": {},
   "outputs": [
    {
     "name": "stdout",
     "output_type": "stream",
     "text": [
      "65700\n",
      "62600\n"
     ]
    }
   ],
   "source": [
    "def get_budgets(x):\n",
    "    budget_list = [i['budget'] for i in x]\n",
    "    total_budget = sum(budget_list)\n",
    "    return total_budget\n",
    "\n",
    "list1 = [\n",
    "    { \"name\": \"John\", \"age\": 21, \"budget\": 23000 },\n",
    "    { \"name\": \"Steve\", \"age\": 32, \"budget\": 40000 },\n",
    "    { \"name\": \"Martin\", \"age\": 16, \"budget\": 2700 }\n",
    "]\n",
    "\n",
    "list2 = [\n",
    "    { \"name\": \"John\", \"age\": 21, \"budget\": 29000 },\n",
    "    { \"name\": \"Steve\", \"age\": 32, \"budget\": 32000 },\n",
    "    { \"name\": \"Martin\", \"age\": 16, \"budget\": 1600 }\n",
    "]\n",
    "\n",
    "for x in [list1, list2]:\n",
    "    print(get_budgets(x))"
   ]
  },
  {
   "cell_type": "markdown",
   "metadata": {},
   "source": [
    "**Question3**\n",
    "<br>Create a function that takes a string and returns a string with its letters in alphabetical order.\n",
    "<br>**Examples**\n",
    "<br>alphabet_soup(\"hello\") ➞ \"ehllo\"\n",
    "<br>alphabet_soup(\"edabit\") ➞ \"abdeit\"\n",
    "<br>alphabet_soup(\"hacker\") ➞ \"acehkr\"\n",
    "<br>alphabet_soup(\"geek\") ➞ \"eegk\"\n",
    "<br>alphabet_soup(\"javascript\") ➞ \"aacijprstv\""
   ]
  },
  {
   "cell_type": "markdown",
   "metadata": {},
   "source": [
    "**Answer:**"
   ]
  },
  {
   "cell_type": "code",
   "execution_count": 5,
   "metadata": {},
   "outputs": [
    {
     "name": "stdout",
     "output_type": "stream",
     "text": [
      "ehllo\n",
      "abdeit\n",
      "acehkr\n",
      "eegk\n",
      "aacijprstv\n"
     ]
    }
   ],
   "source": [
    "def alphabet_soup(x):\n",
    "    temp_list = sorted(list(x))\n",
    "    return ''.join(temp_list)\n",
    "\n",
    "for x in [\"hello\", \"edabit\", \"hacker\", \"geek\", \"javascript\"]:\n",
    "    print(alphabet_soup(x))"
   ]
  },
  {
   "cell_type": "markdown",
   "metadata": {},
   "source": [
    "**Question4**\n",
    "<br>Suppose that you invest $10,000 for 10 years at an interest rate of 6% compounded monthly.\n",
    "What will be the value of your investment at the end of the 10 year period?\n",
    "<br>Create a function that accepts the principal p, the term in years t, the interest rate r, and the\n",
    "number of compounding periods per year n. The function returns the value at the end of term\n",
    "rounded to the nearest cent.\n",
    "<br>For the example above:\n",
    "<br>compound_interest(10000, 10, 0.06, 12) ➞ 18193.97\n",
    "<br>Note that the interest rate is given as a decimal and n=12 because with monthly compounding\n",
    "there are 12 periods per year. Compounding can also be done annually, quarterly, weekly, or\n",
    "daily.\n",
    "<br>**Examples**\n",
    "<br>compound_interest(100, 1, 0.05, 1) ➞ 105.0\n",
    "<br>compound_interest(3500, 15, 0.1, 4) ➞ 15399.26\n",
    "<br>compound_interest(100000, 20, 0.15, 365) ➞ 2007316.26"
   ]
  },
  {
   "cell_type": "markdown",
   "metadata": {},
   "source": [
    "**Answer:**"
   ]
  },
  {
   "cell_type": "code",
   "execution_count": 6,
   "metadata": {},
   "outputs": [
    {
     "name": "stdout",
     "output_type": "stream",
     "text": [
      "105.0\n",
      "15399.26\n",
      "2007316.26\n"
     ]
    }
   ],
   "source": [
    "def compound_interest(p, t, r, n):\n",
    "    compound_factor = (1 + r / n) ** (t * n)\n",
    "    fv = p * compound_factor\n",
    "    return round(fv, 2)\n",
    "\n",
    "for p, t, r, n in [(100, 1, 0.05, 1), (3500, 15, 0.1, 4), (100000, 20, 0.15, 365)]:\n",
    "    print(compound_interest(p, t, r, n))"
   ]
  },
  {
   "cell_type": "markdown",
   "metadata": {},
   "source": [
    "**Question5**\n",
    "<br>Write a function that takes a list of elements and returns only the integers.\n",
    "<br>**Examples**\n",
    "<br>return_only_integer([9, 2, \"space\", \"car\", \"lion\", 16]) ➞ [9, 2, 16]\n",
    "<br>return_only_integer([\"hello\", 81, \"basketball\", 123, \"fox\"]) ➞ [81, 123]\n",
    "<br>return_only_integer([10, \"121\", 56, 20, \"car\", 3, \"lion\"]) ➞ [10, 56, 20,\n",
    "3]\n",
    "<br>return_only_integer([\"String\", True, 3.3, 1]) ➞ [1]"
   ]
  },
  {
   "cell_type": "markdown",
   "metadata": {},
   "source": [
    "**Answer:**"
   ]
  },
  {
   "cell_type": "code",
   "execution_count": 10,
   "metadata": {},
   "outputs": [
    {
     "name": "stdout",
     "output_type": "stream",
     "text": [
      "[9, 2, 16]\n",
      "[81, 123]\n",
      "[10, 56, 20, 3]\n",
      "[1]\n"
     ]
    }
   ],
   "source": [
    "def return_only_integer(x):\n",
    "    new_list = [i for i in x if isinstance(i, int) and not isinstance(i, bool)]\n",
    "    return new_list\n",
    "\n",
    "for x in [[9, 2, \"space\", \"car\", \"lion\", 16], \n",
    "          [\"hello\", 81, \"basketball\", 123, \"fox\"], \n",
    "          [10, \"121\", 56, 20, \"car\", 3, \"lion\"],\n",
    "          [\"String\", True, 3.3, 1]]:\n",
    "    print(return_only_integer(x))"
   ]
  },
  {
   "cell_type": "code",
   "execution_count": null,
   "metadata": {},
   "outputs": [],
   "source": []
  }
 ],
 "metadata": {
  "kernelspec": {
   "display_name": "Python 3",
   "language": "python",
   "name": "python3"
  },
  "language_info": {
   "codemirror_mode": {
    "name": "ipython",
    "version": 3
   },
   "file_extension": ".py",
   "mimetype": "text/x-python",
   "name": "python",
   "nbconvert_exporter": "python",
   "pygments_lexer": "ipython3",
   "version": "3.8.5"
  }
 },
 "nbformat": 4,
 "nbformat_minor": 4
}

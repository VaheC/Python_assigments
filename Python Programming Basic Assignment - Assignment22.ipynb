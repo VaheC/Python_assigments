{
 "cells": [
  {
   "cell_type": "markdown",
   "metadata": {},
   "source": [
    "**Question1**\n",
    "<br>Create a function that takes three parameters where:\n",
    "* x is the start of the range (inclusive).\n",
    "* y is the end of the range (inclusive).\n",
    "* n is the divisor to be checked against.\n",
    "\n",
    "<br>Return an ordered list with numbers in the range that are divisible by the third parameter n.\n",
    "<br>Return an empty list if there are no numbers that are divisible by n.\n",
    "<br>**Examples**\n",
    "<br>list_operation(1, 10, 3) ➞ [3, 6, 9]\n",
    "<br>list_operation(7, 9, 2) ➞ [8]\n",
    "<br>list_operation(15, 20, 7) ➞ []"
   ]
  },
  {
   "cell_type": "markdown",
   "metadata": {},
   "source": [
    "**Answer:**"
   ]
  },
  {
   "cell_type": "code",
   "execution_count": 2,
   "metadata": {},
   "outputs": [
    {
     "name": "stdout",
     "output_type": "stream",
     "text": [
      "[3, 6, 9]\n",
      "[8]\n",
      "[]\n"
     ]
    }
   ],
   "source": [
    "def list_operation(x, y, n):\n",
    "    temp_list = [i for i in range(x, y+1) if i%n==0]\n",
    "    return temp_list\n",
    "\n",
    "for x, y, n in [(1, 10, 3), (7, 9, 2), (15, 20, 7)]:\n",
    "    print(list_operation(x, y, n))"
   ]
  },
  {
   "cell_type": "markdown",
   "metadata": {},
   "source": [
    "**Question2**\n",
    "<br>Create a function that takes in two lists and returns True if the second list follows the first list\n",
    "by one element, and False otherwise. In other words, determine if the second list is the first\n",
    "list shifted to the right by 1.\n",
    "<br>**Examples**\n",
    "<br>simon_says([1, 2], [5, 1]) ➞ True\n",
    "<br>simon_says([1, 2], [5, 5]) ➞ False\n",
    "<br>simon_says([1, 2, 3, 4, 5], [0, 1, 2, 3, 4]) ➞ True\n",
    "<br>simon_says([1, 2, 3, 4, 5], [5, 5, 1, 2, 3]) ➞ False\n",
    "<br>Notes\n",
    "* Both input lists will be of the same length, and will have a minimum length of 2.\n",
    "* The values of the 0-indexed element in the second list and the n-1th indexed element\n",
    "in the first list do not matter."
   ]
  },
  {
   "cell_type": "markdown",
   "metadata": {},
   "source": [
    "**Answer:**"
   ]
  },
  {
   "cell_type": "code",
   "execution_count": 5,
   "metadata": {},
   "outputs": [
    {
     "name": "stdout",
     "output_type": "stream",
     "text": [
      "True\n",
      "False\n",
      "True\n",
      "False\n"
     ]
    }
   ],
   "source": [
    "def simon_says(list1, list2):\n",
    "    if list1[:-1] == list2[1:]:\n",
    "        return True\n",
    "    else:\n",
    "        return False\n",
    "    \n",
    "for list1, list2 in [([1, 2], [5, 1]), \n",
    "                     ([1, 2], [5, 5]), \n",
    "                     ([1, 2, 3, 4, 5], [0, 1, 2, 3, 4]), \n",
    "                     ([1, 2, 3, 4, 5], [5, 5, 1, 2, 3])]:\n",
    "    print(simon_says(list1, list2))"
   ]
  },
  {
   "cell_type": "markdown",
   "metadata": {},
   "source": [
    "**Question3**\n",
    "<br>A group of friends have decided to start a secret society. The name will be the first letter of\n",
    "each of their names, sorted in alphabetical order.\n",
    "<br>Create a function that takes in a list of names and returns the name of the secret society.\n",
    "\n",
    "<br>**Examples**\n",
    "<br>society_name([\"Adam\", \"Sarah\", \"Malcolm\"]) ➞ \"AMS\"\n",
    "<br>society_name([\"Harry\", \"Newt\", \"Luna\", \"Cho\"]) ➞ \"CHLN\"\n",
    "<br>society_name([\"Phoebe\", \"Chandler\", \"Rachel\", \"Ross\", \"Monica\", \"Joey\"]) ➞ \"CJMPRR\""
   ]
  },
  {
   "cell_type": "markdown",
   "metadata": {},
   "source": [
    "**Answer:**"
   ]
  },
  {
   "cell_type": "code",
   "execution_count": 6,
   "metadata": {},
   "outputs": [
    {
     "name": "stdout",
     "output_type": "stream",
     "text": [
      "AMS\n",
      "CHLN\n",
      "CJMPRR\n"
     ]
    }
   ],
   "source": [
    "def society_name(x):\n",
    "    name = ''.join(sorted([i[0] for i in x]))\n",
    "    return name\n",
    "\n",
    "for x in [[\"Adam\", \"Sarah\", \"Malcolm\"], \n",
    "          [\"Harry\", \"Newt\", \"Luna\", \"Cho\"], \n",
    "          [\"Phoebe\", \"Chandler\", \"Rachel\", \"Ross\", \"Monica\", \"Joey\"]]:\n",
    "    print(society_name(x))"
   ]
  },
  {
   "cell_type": "markdown",
   "metadata": {},
   "source": [
    "**Question4**\n",
    "<br>An isogram is a word that has no duplicate letters. Create a function that takes a string and\n",
    "returns either True or False depending on whether or not it&#39;s an &quot;isogram&quot;.\n",
    "<br>Examples\n",
    "<br>is_isogram(&quot;Algorism&quot;) ➞ True\n",
    "<br>is_isogram(&quot;PasSword&quot;) ➞ False\n",
    "<br># Not case sensitive.\n",
    "<br>is_isogram(&quot;Consecutive&quot;) ➞ False\n",
    "<br>Notes\n",
    "* Ignore letter case (should not be case sensitive).\n",
    "* All test cases contain valid one word strings."
   ]
  },
  {
   "cell_type": "markdown",
   "metadata": {},
   "source": [
    "**Answer:**"
   ]
  },
  {
   "cell_type": "code",
   "execution_count": 14,
   "metadata": {},
   "outputs": [
    {
     "name": "stdout",
     "output_type": "stream",
     "text": [
      "True\n",
      "False\n",
      "False\n"
     ]
    }
   ],
   "source": [
    "def is_isogram(x):\n",
    "    from collections import Counter\n",
    "    temp_list = list(x.lower())\n",
    "    count_dict = dict(Counter(temp_list))\n",
    "    once_list = [i for i in count_dict.values() if i==1]\n",
    "    if len(once_list) == len(temp_list):\n",
    "        return True\n",
    "    else:\n",
    "        return False\n",
    "    \n",
    "for x in [\"Algorism\", \"PasSword\", \"Consecutive\"]:\n",
    "    print(is_isogram(x))"
   ]
  },
  {
   "cell_type": "markdown",
   "metadata": {},
   "source": [
    "**Question5**\n",
    "<br>Create a function that takes a string and returns True or False, depending on whether the\n",
    "characters are in order or not.\n",
    "<br>**Examples**\n",
    "<br>is_in_order(\"abc\") ➞ True\n",
    "<br>is_in_order(\"edabit\") ➞ False\n",
    "<br>is_in_order(\"123\") ➞ True\n",
    "<br>is_in_order(\"xyzz\") ➞ True\n",
    "<br>Notes\n",
    "<br>You don't have to handle empty strings."
   ]
  },
  {
   "cell_type": "markdown",
   "metadata": {},
   "source": [
    "**Answer:**"
   ]
  },
  {
   "cell_type": "code",
   "execution_count": 16,
   "metadata": {},
   "outputs": [
    {
     "name": "stdout",
     "output_type": "stream",
     "text": [
      "True\n",
      "False\n",
      "True\n",
      "True\n"
     ]
    }
   ],
   "source": [
    "def is_in_order(x):\n",
    "    sorted_x = ''.join(sorted(list(x)))\n",
    "    if x == sorted_x:\n",
    "        return True\n",
    "    else:\n",
    "        return False\n",
    "    \n",
    "for x in [\"abc\", \"edabit\", \"123\", \"xyzz\"]:\n",
    "    print(is_in_order(x))"
   ]
  },
  {
   "cell_type": "code",
   "execution_count": null,
   "metadata": {},
   "outputs": [],
   "source": []
  }
 ],
 "metadata": {
  "kernelspec": {
   "display_name": "Python 3",
   "language": "python",
   "name": "python3"
  },
  "language_info": {
   "codemirror_mode": {
    "name": "ipython",
    "version": 3
   },
   "file_extension": ".py",
   "mimetype": "text/x-python",
   "name": "python",
   "nbconvert_exporter": "python",
   "pygments_lexer": "ipython3",
   "version": "3.8.5"
  }
 },
 "nbformat": 4,
 "nbformat_minor": 4
}

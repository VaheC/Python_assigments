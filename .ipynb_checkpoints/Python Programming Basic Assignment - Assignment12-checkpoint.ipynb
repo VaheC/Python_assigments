{
 "cells": [
  {
   "cell_type": "markdown",
   "metadata": {},
   "source": [
    "**1.** Write a Python program to Extract Unique values dictionary values?"
   ]
  },
  {
   "cell_type": "markdown",
   "metadata": {},
   "source": [
    "**Answer:**"
   ]
  },
  {
   "cell_type": "code",
   "execution_count": 2,
   "metadata": {},
   "outputs": [
    {
     "data": {
      "text/plain": [
       "[25, 10, 15]"
      ]
     },
     "execution_count": 2,
     "metadata": {},
     "output_type": "execute_result"
    }
   ],
   "source": [
    "sales = {'store1': 15, 'store2': 25, 'store3': 15, 'store4': 10, 'store5': 25}\n",
    "unique_sales = list(set([i for i in sales.values()]))\n",
    "unique_sales"
   ]
  },
  {
   "cell_type": "markdown",
   "metadata": {},
   "source": [
    "**2.** Write a Python program to find the sum of all items in a dictionary?"
   ]
  },
  {
   "cell_type": "markdown",
   "metadata": {},
   "source": [
    "**Answer:**"
   ]
  },
  {
   "cell_type": "code",
   "execution_count": 3,
   "metadata": {},
   "outputs": [
    {
     "data": {
      "text/plain": [
       "90"
      ]
     },
     "execution_count": 3,
     "metadata": {},
     "output_type": "execute_result"
    }
   ],
   "source": [
    "sales = {'store1': 15, 'store2': 25, 'store3': 15, 'store4': 10, 'store5': 25}\n",
    "total_sales = sum([i for i in sales.values()])\n",
    "total_sales"
   ]
  },
  {
   "cell_type": "markdown",
   "metadata": {},
   "source": [
    "**3.** Write a Python program to Merging two Dictionaries?"
   ]
  },
  {
   "cell_type": "markdown",
   "metadata": {},
   "source": [
    "**Answer:**"
   ]
  },
  {
   "cell_type": "code",
   "execution_count": 4,
   "metadata": {},
   "outputs": [
    {
     "data": {
      "text/plain": [
       "{'store1': 15,\n",
       " 'store2': 25,\n",
       " 'store3': 15,\n",
       " 'store4': 10,\n",
       " 'store5': 25,\n",
       " 'store6': 14,\n",
       " 'store7': 95,\n",
       " 'store8': 35}"
      ]
     },
     "execution_count": 4,
     "metadata": {},
     "output_type": "execute_result"
    }
   ],
   "source": [
    "sales = {'store1': 15, 'store2': 25, 'store3': 15, 'store4': 10, 'store5': 25}\n",
    "sales_another = {'store6': 14, 'store7': 95, 'store8': 35}\n",
    "sales.update(sales_another)\n",
    "sales"
   ]
  },
  {
   "cell_type": "markdown",
   "metadata": {},
   "source": [
    "**4.** Write a Python program to convert key-values list to flat dictionary?"
   ]
  },
  {
   "cell_type": "markdown",
   "metadata": {},
   "source": [
    "**Answer:**"
   ]
  },
  {
   "cell_type": "code",
   "execution_count": 5,
   "metadata": {},
   "outputs": [
    {
     "data": {
      "text/plain": [
       "{'store1': 15, 'store2': 25, 'store3': 15, 'store4': 10, 'store5': 25}"
      ]
     },
     "execution_count": 5,
     "metadata": {},
     "output_type": "execute_result"
    }
   ],
   "source": [
    "kv_list = [('store1', 15), ('store2', 25), ('store3', 15), ('store4', 10), ('store5', 25)]\n",
    "sales = {elem[0]: elem[1] for elem in kv_list}\n",
    "sales"
   ]
  },
  {
   "cell_type": "markdown",
   "metadata": {},
   "source": [
    "**5.** Write a Python program to insertion at the beginning in OrderedDict?"
   ]
  },
  {
   "cell_type": "markdown",
   "metadata": {},
   "source": [
    "**Answer:**"
   ]
  },
  {
   "cell_type": "code",
   "execution_count": 1,
   "metadata": {},
   "outputs": [
    {
     "data": {
      "text/plain": [
       "OrderedDict([('store4', 10), ('store1', 15), ('store2', 25), ('store3', 15)])"
      ]
     },
     "execution_count": 1,
     "metadata": {},
     "output_type": "execute_result"
    }
   ],
   "source": [
    "from collections import OrderedDict\n",
    "\n",
    "ord_dict = OrderedDict([('store1', 15), ('store2', 25), ('store3', 15)])\n",
    "ord_dict['store4'] = 10\n",
    "ord_dict.move_to_end('store4', last=False)\n",
    "ord_dict"
   ]
  },
  {
   "cell_type": "markdown",
   "metadata": {},
   "source": [
    "**6.** Write a Python program to check order of character in string using OrderedDict()?"
   ]
  },
  {
   "cell_type": "markdown",
   "metadata": {},
   "source": [
    "**Answer:**"
   ]
  },
  {
   "cell_type": "code",
   "execution_count": 9,
   "metadata": {},
   "outputs": [
    {
     "name": "stdout",
     "output_type": "stream",
     "text": [
      "stran character order is present in the text.\n"
     ]
    }
   ],
   "source": [
    "from collections import OrderedDict\n",
    "\n",
    "txt = \"This code looks strange, please revise it.\"\n",
    "\n",
    "pattern = 'stran'\n",
    "\n",
    "txt_list = list(txt)\n",
    "ord_dict = OrderedDict([(i, (txt_list[i], ''.join(txt_list[i+1:i+len(pattern)])))\n",
    "                        for i in range(len(txt_list))])\n",
    "pattern_list = [''.join(list(value)).lower() for key, value in ord_dict.items()]\n",
    "\n",
    "if pattern in pattern_list:\n",
    "    print(f\"{pattern} character order is present in the text.\")\n",
    "else:\n",
    "    print(f\"{pattern} character order is not present in the text.\")"
   ]
  },
  {
   "cell_type": "markdown",
   "metadata": {},
   "source": [
    "**7.** Write a Python program to sort Python Dictionaries by Key or Value?"
   ]
  },
  {
   "cell_type": "markdown",
   "metadata": {},
   "source": [
    "**Answer:**"
   ]
  },
  {
   "cell_type": "code",
   "execution_count": 16,
   "metadata": {},
   "outputs": [
    {
     "name": "stdout",
     "output_type": "stream",
     "text": [
      "Sorted by key\n",
      "[('store1', 15), ('store2', 25), ('store3', 15), ('store4', 10), ('store5', 25)]\n",
      "Sorted by value\n",
      "[('store4', 10), ('store1', 15), ('store3', 15), ('store2', 25), ('store5', 25)]\n"
     ]
    }
   ],
   "source": [
    "sales = {'store1': 15, 'store3': 15, 'store2': 25, 'store4': 10, 'store5': 25}\n",
    "\n",
    "print('Sorted by key')\n",
    "print(sorted(sales.items(), key=lambda x: x[0]))\n",
    "\n",
    "print('Sorted by value')\n",
    "print(sorted(sales.items(), key=lambda x: x[1]))"
   ]
  },
  {
   "cell_type": "code",
   "execution_count": null,
   "metadata": {},
   "outputs": [],
   "source": []
  }
 ],
 "metadata": {
  "kernelspec": {
   "display_name": "Python 3",
   "language": "python",
   "name": "python3"
  },
  "language_info": {
   "codemirror_mode": {
    "name": "ipython",
    "version": 3
   },
   "file_extension": ".py",
   "mimetype": "text/x-python",
   "name": "python",
   "nbconvert_exporter": "python",
   "pygments_lexer": "ipython3",
   "version": "3.8.5"
  }
 },
 "nbformat": 4,
 "nbformat_minor": 4
}

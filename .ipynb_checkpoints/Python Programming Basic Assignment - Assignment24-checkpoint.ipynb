{
 "cells": [
  {
   "cell_type": "markdown",
   "metadata": {},
   "source": [
    "**Question1**\n",
    "<br>Create a function that takes an integer and returns a list from 1 to the given number, where:\n",
    "<br>1. If the number can be divided evenly by 4, amplify it by 10 (i.e. return 10 times the\n",
    "number).\n",
    "<br>2. If the number cannot be divided evenly by 4, simply return the number.\n",
    "<br>**Examples**\n",
    "<br>amplify(4) ➞ [1, 2, 3, 40]\n",
    "<br>amplify(3) ➞ [1, 2, 3]\n",
    "<br>amplify(25) ➞ [1, 2, 3, 40, 5, 6, 7, 80, 9, 10, 11, 120, 13, 14, 15, 160,\n",
    "17, 18, 19, 200, 21, 22, 23, 240, 25]\n",
    "<br>\n",
    "<br>Notes\n",
    "* The given integer will always be equal to or greater than 1.\n",
    "* Include the number (see example above).\n",
    "* To perform this problem with its intended purpose, try doing it with list\n",
    "comprehensions. If that's too difficult, just solve the challenge any way you can."
   ]
  },
  {
   "cell_type": "markdown",
   "metadata": {},
   "source": [
    "**Answer:**"
   ]
  },
  {
   "cell_type": "code",
   "execution_count": 2,
   "metadata": {},
   "outputs": [
    {
     "name": "stdout",
     "output_type": "stream",
     "text": [
      "[1, 2, 3, 40]\n",
      "[1, 2, 3]\n",
      "[1, 2, 3, 40, 5, 6, 7, 80, 9, 10, 11, 120, 13, 14, 15, 160, 17, 18, 19, 200, 21, 22, 23, 240, 25]\n"
     ]
    }
   ],
   "source": [
    "def amplify(x):\n",
    "    temp_list = [i*10 if i%4==0 else i for i in range(1, x+1)]\n",
    "    return temp_list\n",
    "\n",
    "for x in [4, 3, 25]:\n",
    "    print(amplify(x))"
   ]
  },
  {
   "cell_type": "markdown",
   "metadata": {},
   "source": [
    "**Question2**\n",
    "<br>Create a function that takes a list of numbers and return the number that&#39;s unique.\n",
    "<br>**Examples**\n",
    "<br>unique([3, 3, 3, 7, 3, 3]) ➞ 7\n",
    "<br>unique([0, 0, 0.77, 0, 0]) ➞ 0.77\n",
    "<br>unique([0, 1, 1, 1, 1, 1, 1, 1]) ➞ 0\n",
    "<br>\n",
    "<br>Notes\n",
    "<br>Test cases will always have exactly one unique number while all others are the same."
   ]
  },
  {
   "cell_type": "markdown",
   "metadata": {},
   "source": [
    "**Answer:**"
   ]
  },
  {
   "cell_type": "code",
   "execution_count": 3,
   "metadata": {},
   "outputs": [
    {
     "name": "stdout",
     "output_type": "stream",
     "text": [
      "7\n",
      "0.77\n",
      "0\n"
     ]
    }
   ],
   "source": [
    "def unique(x):\n",
    "    from collections import Counter\n",
    "    temp_dict = Counter(x)\n",
    "    for i in temp_dict:\n",
    "        if temp_dict[i] == 1:\n",
    "            return i\n",
    "        else:\n",
    "            pass\n",
    "        \n",
    "for x in [[3, 3, 3, 7, 3, 3], [0, 0, 0.77, 0, 0], [0, 1, 1, 1, 1, 1, 1, 1]]:\n",
    "    print(unique(x))"
   ]
  },
  {
   "cell_type": "markdown",
   "metadata": {},
   "source": [
    "**Question3**\n",
    "<br>Your task is to create a Circle constructor that creates a circle with a radius provided by an\n",
    "argument. The circles constructed must have two getters getArea() (PIr^2) and\n",
    "getPerimeter() (2PI*r) which give both respective areas and perimeter (circumference).\n",
    "<br>\n",
    "<br>For help with this class, I have provided you with a Rectangle constructor which you can use\n",
    "as a base example.\n",
    "<br>Examples\n",
    "<br>circy = Circle(11)\n",
    "<br>circy.getArea()\n",
    "<br># Should return 380.132711084365\n",
    "<br>circy = Circle(4.44)\n",
    "<br>circy.getPerimeter()\n",
    "<br># Should return 27.897342763877365\n",
    "<br>\n",
    "<br>Notes\n",
    "<br>Round results up to the nearest integer."
   ]
  },
  {
   "cell_type": "markdown",
   "metadata": {},
   "source": [
    "**Answer:**"
   ]
  },
  {
   "cell_type": "code",
   "execution_count": 5,
   "metadata": {},
   "outputs": [
    {
     "name": "stdout",
     "output_type": "stream",
     "text": [
      "380.0\n",
      "28\n"
     ]
    }
   ],
   "source": [
    "from math import pi\n",
    "\n",
    "class Circle:\n",
    "    def __init__(self, radius):\n",
    "        self.r = radius\n",
    "        \n",
    "    def getArea(self):\n",
    "        return round(pi * self.r ** 2, 0)\n",
    "    \n",
    "    def getPerimeter(self):\n",
    "        return round(2 * pi * self.r)\n",
    "    \n",
    "circy = Circle(11)\n",
    "print(circy.getArea())\n",
    "\n",
    "circy = Circle(4.44)\n",
    "print(circy.getPerimeter())"
   ]
  },
  {
   "cell_type": "markdown",
   "metadata": {},
   "source": [
    "**Question4**\n",
    "<br>Create a function that takes a list of strings and return a list, sorted from shortest to longest.\n",
    "<br>**Examples**\n",
    "<br>sort_by_length([\"Google\", \"Apple\", \"Microsoft\"])\n",
    "➞ [\"Apple\", \"Google\", \"Microsoft\"]\n",
    "<br>sort_by_length([\"Leonardo\", \"Michelangelo\", \"Raphael\", \"Donatello\"])\n",
    "➞ [\"Raphael\", \"Leonardo\", \"Donatello\", \"Michelangelo\"]\n",
    "<br>sort_by_length([\"Turing\", \"Einstein\", \"Jung\"])\n",
    "➞ [\"Jung\", \"Turing\", \"Einstein\"]\n",
    "<br>\n",
    "<br>Notes\n",
    "<br>All test cases contain lists with strings of different lengths, so you won&#39;t have to deal with\n",
    "multiple strings of the same length."
   ]
  },
  {
   "cell_type": "markdown",
   "metadata": {},
   "source": [
    "**Answer:**"
   ]
  },
  {
   "cell_type": "code",
   "execution_count": 10,
   "metadata": {},
   "outputs": [
    {
     "name": "stdout",
     "output_type": "stream",
     "text": [
      "['Apple', 'Google', 'Microsoft']\n",
      "['Raphael', 'Leonardo', 'Donatello', 'Michelangelo']\n",
      "['Jung', 'Turing', 'Einstein']\n"
     ]
    }
   ],
   "source": [
    "def sort_by_length(x):\n",
    "    temp_dict = {i: len(x[i]) for i in range(len(x))}\n",
    "    temp_list = sorted(temp_dict.items(), key=lambda k: k[1])\n",
    "    new_list = [x[elem[0]] for elem in temp_list]\n",
    "    return new_list\n",
    "\n",
    "for x in [[\"Google\", \"Apple\", \"Microsoft\"], \n",
    "          [\"Leonardo\", \"Michelangelo\", \"Raphael\", \"Donatello\"],\n",
    "          [\"Turing\", \"Einstein\", \"Jung\"]]:\n",
    "    print(sort_by_length(x))"
   ]
  },
  {
   "cell_type": "markdown",
   "metadata": {},
   "source": [
    "**Question5**\n",
    "<br>Create a function that validates whether three given integers form a Pythagorean triplet. The\n",
    "sum of the squares of the two smallest integers must equal the square of the largest number to\n",
    "be validated.\n",
    "<br>**Examples**\n",
    "<br>is_triplet(3, 4, 5) ➞ True\n",
    "<br># 3² + 4² = 25\n",
    "<br># 5² = 25\n",
    "<br>is_triplet(13, 5, 12) ➞ True\n",
    "<br># 5² + 12² = 169\n",
    "<br># 13² = 169\n",
    "<br>is_triplet(1, 2, 3) ➞ False\n",
    "<br># 1² + 2² = 5\n",
    "<br># 3² = 9\n",
    "<br>\n",
    "<br>Notes\n",
    "<br>Numbers may not be given in a sorted order."
   ]
  },
  {
   "cell_type": "markdown",
   "metadata": {},
   "source": [
    "**Answer:**"
   ]
  },
  {
   "cell_type": "code",
   "execution_count": 12,
   "metadata": {},
   "outputs": [
    {
     "name": "stdout",
     "output_type": "stream",
     "text": [
      "True\n",
      "True\n",
      "False\n"
     ]
    }
   ],
   "source": [
    "def is_triplet(x, y, z):\n",
    "    temp_list = sorted([x, y, z])\n",
    "    if temp_list[-1] ** 2 == temp_list[0] ** 2 + temp_list[1] ** 2:\n",
    "        return True\n",
    "    else:\n",
    "        return False\n",
    "    \n",
    "for x, y, z in [(3, 4, 5), (13, 5, 12), (1, 2, 3)]:\n",
    "    print(is_triplet(x, y, z))"
   ]
  },
  {
   "cell_type": "code",
   "execution_count": null,
   "metadata": {},
   "outputs": [],
   "source": []
  }
 ],
 "metadata": {
  "kernelspec": {
   "display_name": "Python 3",
   "language": "python",
   "name": "python3"
  },
  "language_info": {
   "codemirror_mode": {
    "name": "ipython",
    "version": 3
   },
   "file_extension": ".py",
   "mimetype": "text/x-python",
   "name": "python",
   "nbconvert_exporter": "python",
   "pygments_lexer": "ipython3",
   "version": "3.8.5"
  }
 },
 "nbformat": 4,
 "nbformat_minor": 4
}

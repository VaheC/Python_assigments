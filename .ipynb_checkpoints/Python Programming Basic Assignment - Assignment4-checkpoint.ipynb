{
 "cells": [
  {
   "cell_type": "markdown",
   "metadata": {},
   "source": [
    "1.Write a Python Program to Find the Factorial of a Number?"
   ]
  },
  {
   "cell_type": "code",
   "execution_count": 5,
   "metadata": {},
   "outputs": [
    {
     "name": "stdout",
     "output_type": "stream",
     "text": [
      "The factorial of 5 is 120.\n"
     ]
    }
   ],
   "source": [
    "number = 5\n",
    "\n",
    "if number == 0:\n",
    "    factorial = 1\n",
    "else:\n",
    "    factorial = 1\n",
    "    for i in range(1, number+1):\n",
    "        factorial *= i\n",
    "\n",
    "print(f\"The factorial of {number} is {factorial}.\")"
   ]
  },
  {
   "cell_type": "markdown",
   "metadata": {},
   "source": [
    "2.Write a Python Program to Display the multiplication Table?"
   ]
  },
  {
   "cell_type": "code",
   "execution_count": 9,
   "metadata": {},
   "outputs": [
    {
     "name": "stdout",
     "output_type": "stream",
     "text": [
      " 1  2  3  4  5  6  7  8  9\n",
      " 2  4  6  8 10 12 14 16 18\n",
      " 3  6  9 12 15 18 21 24 27\n",
      " 4  8 12 16 20 24 28 32 36\n",
      " 5 10 15 20 25 30 35 40 45\n",
      " 6 12 18 24 30 36 42 48 54\n",
      " 7 14 21 28 35 42 49 56 63\n",
      " 8 16 24 32 40 48 56 64 72\n",
      " 9 18 27 36 45 54 63 72 81\n"
     ]
    }
   ],
   "source": [
    "for i in range(1, 10):\n",
    "    temp_list = []\n",
    "    for j in range(1, 10):\n",
    "        if i*j < 10:\n",
    "            temp_elem = ' ' + str(i*j)\n",
    "        else:\n",
    "            temp_elem = str(i*j)\n",
    "        temp_list.append(temp_elem)\n",
    "    print(' '.join(temp_list))"
   ]
  },
  {
   "cell_type": "markdown",
   "metadata": {},
   "source": [
    "3.Write a Python Program to Print the Fibonacci sequence?"
   ]
  },
  {
   "cell_type": "code",
   "execution_count": 13,
   "metadata": {},
   "outputs": [
    {
     "name": "stdout",
     "output_type": "stream",
     "text": [
      "0; 1; 1; 2; 3; 5; 8; 13; 21; 34; 55; 89; 144; 233; 377; 610; 987; 1597; 2584; 4181; 6765; 10946; 17711; 28657\n"
     ]
    }
   ],
   "source": [
    "# Creating a list with first 2 values of the sequence\n",
    "seq_list = [0, 1]\n",
    "# Providing the number of elements to generate using the sequence\n",
    "n_sequence = 24\n",
    "for i in range(n_sequence):\n",
    "    if i in [0, 1]:\n",
    "        continue\n",
    "    else:\n",
    "        seq_list.append(seq_list[i-1] + seq_list[i-2])\n",
    "        \n",
    "print('; '.join([str(i) for i in seq_list]))"
   ]
  },
  {
   "cell_type": "markdown",
   "metadata": {},
   "source": [
    "4.Write a Python Program to Check Armstrong Number?"
   ]
  },
  {
   "cell_type": "code",
   "execution_count": 20,
   "metadata": {},
   "outputs": [
    {
     "name": "stdout",
     "output_type": "stream",
     "text": [
      "407 is an Armstrong Number.\n"
     ]
    }
   ],
   "source": [
    "number = 407\n",
    "\n",
    "cube_sum = sum([int(i)**3 for i in str(number)])\n",
    "if number == cube_sum:\n",
    "    print(f\"{number} is an Armstrong Number.\")\n",
    "else:\n",
    "    print(f\"{number} is not an Armstrong Number.\")"
   ]
  },
  {
   "cell_type": "markdown",
   "metadata": {},
   "source": [
    "5.Write a Python Program to Find Armstrong Number in an Interval?"
   ]
  },
  {
   "cell_type": "code",
   "execution_count": 23,
   "metadata": {},
   "outputs": [
    {
     "name": "stdout",
     "output_type": "stream",
     "text": [
      "370 is an Armstrong number.\n",
      "371 is an Armstrong number.\n",
      "407 is an Armstrong number.\n"
     ]
    }
   ],
   "source": [
    "# Initiating endpoints of [a, b] interval\n",
    "a = 254\n",
    "b = 587\n",
    "\n",
    "n_numbers = 0\n",
    "for number in range(a, b+1):\n",
    "    cube_sum = sum([int(i)**3 for i in str(number)])\n",
    "    if number == cube_sum:\n",
    "        print(f\"{number} is an Armstrong number.\")\n",
    "        n_numbers += 1\n",
    "    else:\n",
    "        if number == b and n_numbers == 0:\n",
    "            print('There is no any Armstrong number in the interval.')\n",
    "        else:\n",
    "            pass"
   ]
  },
  {
   "cell_type": "markdown",
   "metadata": {},
   "source": [
    "6.Write a Python Program to Find the Sum of Natural Numbers?"
   ]
  },
  {
   "cell_type": "code",
   "execution_count": 24,
   "metadata": {},
   "outputs": [
    {
     "data": {
      "text/plain": [
       "500500"
      ]
     },
     "execution_count": 24,
     "metadata": {},
     "output_type": "execute_result"
    }
   ],
   "source": [
    "# Initiating the endpoint of natural numbers\n",
    "end_number = 1000\n",
    "\n",
    "sum_nn = sum([i for i in range(1, end_number+1)])\n",
    "sum_nn"
   ]
  },
  {
   "cell_type": "code",
   "execution_count": null,
   "metadata": {},
   "outputs": [],
   "source": []
  }
 ],
 "metadata": {
  "kernelspec": {
   "display_name": "Python 3",
   "language": "python",
   "name": "python3"
  },
  "language_info": {
   "codemirror_mode": {
    "name": "ipython",
    "version": 3
   },
   "file_extension": ".py",
   "mimetype": "text/x-python",
   "name": "python",
   "nbconvert_exporter": "python",
   "pygments_lexer": "ipython3",
   "version": "3.8.5"
  }
 },
 "nbformat": 4,
 "nbformat_minor": 4
}

{
 "cells": [
  {
   "cell_type": "markdown",
   "metadata": {},
   "source": [
    "**Question1**\n",
    "<br>Create a function that takes a string and returns a string in which each character is repeated\n",
    "once.\n",
    "<br>**Examples**\n",
    "<br>double_char(\"String\") ➞ \"SSttrriinngg\"\n",
    "<br>double_char(\"Hello World!\") ➞ \"HHeelllloo WWoorrlldd!!\"\n",
    "<br>double_char(\"1234!_ \") ➞ \"11223344!!__ \""
   ]
  },
  {
   "cell_type": "markdown",
   "metadata": {},
   "source": [
    "**Answer:**"
   ]
  },
  {
   "cell_type": "code",
   "execution_count": 2,
   "metadata": {},
   "outputs": [
    {
     "name": "stdout",
     "output_type": "stream",
     "text": [
      "SSttrriinngg\n",
      "HHeelllloo  WWoorrlldd!!\n",
      "11223344!!__  \n"
     ]
    }
   ],
   "source": [
    "def double_char(x):\n",
    "    temp_list = list(x)\n",
    "    temp_list = [2*i for i in temp_list]\n",
    "    new_x = ''.join(temp_list)\n",
    "    return new_x\n",
    "\n",
    "for x in [\"String\", \"Hello World!\", \"1234!_ \"]:\n",
    "    print(double_char(x))"
   ]
  },
  {
   "cell_type": "markdown",
   "metadata": {},
   "source": [
    "**Question2**\n",
    "<br>Create a function that reverses a boolean value and returns the string &quot;boolean expected&quot;\n",
    "if another variable type is given.\n",
    "<br>**Examples**\n",
    "<br>reverse(True) ➞ False\n",
    "<br>reverse(False) ➞ True\n",
    "<br>reverse(0) ➞ &quot;boolean expected&quot;\n",
    "<br>reverse(None) ➞ &quot;boolean expected&quot;"
   ]
  },
  {
   "cell_type": "markdown",
   "metadata": {},
   "source": [
    "**Answer:**"
   ]
  },
  {
   "cell_type": "code",
   "execution_count": 3,
   "metadata": {},
   "outputs": [
    {
     "name": "stdout",
     "output_type": "stream",
     "text": [
      "False\n",
      "True\n",
      "boolean expected\n",
      "boolean expected\n"
     ]
    }
   ],
   "source": [
    "def reverse(x):\n",
    "    if isinstance(x, bool):\n",
    "        return not x\n",
    "    else:\n",
    "        return \"boolean expected\"\n",
    "    \n",
    "for x in [True, False, 0, None]:\n",
    "    print(reverse(x))"
   ]
  },
  {
   "cell_type": "markdown",
   "metadata": {},
   "source": [
    "**Question3**\n",
    "<br>Create a function that returns the thickness (in meters) of a piece of paper after folding it n\n",
    "number of times. The paper starts off with a thickness of 0.5mm.\n",
    "<br>**Examples**\n",
    "<br>num_layers(1) ➞ \"0.001m\"\n",
    "<br># Paper folded once is 1mm (equal to 0.001m)\n",
    "<br>num_layers(4) ➞ \"0.008m\"\n",
    "<br># Paper folded 4 times is 8mm (equal to 0.008m)\n",
    "<br>num_layers(21) ➞ \"1048.576m\"\n",
    "<br># Paper folded 21 times is 1048576mm (equal to 1048.576m)"
   ]
  },
  {
   "cell_type": "markdown",
   "metadata": {},
   "source": [
    "**Answer:**"
   ]
  },
  {
   "cell_type": "code",
   "execution_count": 10,
   "metadata": {},
   "outputs": [
    {
     "name": "stdout",
     "output_type": "stream",
     "text": [
      "0.001m\n",
      "0.008m\n",
      "1048.576m\n"
     ]
    }
   ],
   "source": [
    "def num_layers(n_fold):\n",
    "    final_thickness = 0.5\n",
    "    for i in range(n_fold):\n",
    "        final_thickness *= 2\n",
    "    return f\"{final_thickness / 1000}m\"\n",
    "\n",
    "for i in [1, 4, 21]:\n",
    "    print(num_layers(i))"
   ]
  },
  {
   "cell_type": "markdown",
   "metadata": {},
   "source": [
    "**Question4**\n",
    "<br>Create a function that takes a single string as argument and returns an ordered list containing\n",
    "the indices of all capital letters in the string.\n",
    "<br>**Examples**\n",
    "<br>index_of_caps(\"eDaBiT\") ➞ [1, 3, 5]\n",
    "<br>index_of_caps(\"eQuINoX\") ➞ [1, 3, 4, 6]\n",
    "<br>index_of_caps(\"determine\") ➞ []\n",
    "<br>index_of_caps(\"STRIKE\") ➞ [0, 1, 2, 3, 4, 5]\n",
    "<br>index_of_caps(\"sUn\") ➞ [1]"
   ]
  },
  {
   "cell_type": "markdown",
   "metadata": {},
   "source": [
    "**Answer:**"
   ]
  },
  {
   "cell_type": "code",
   "execution_count": 12,
   "metadata": {},
   "outputs": [
    {
     "name": "stdout",
     "output_type": "stream",
     "text": [
      "[1, 3, 5]\n",
      "[1, 3, 4, 6]\n",
      "[]\n",
      "[0, 1, 2, 3, 4, 5]\n",
      "[1]\n"
     ]
    }
   ],
   "source": [
    "def index_of_caps(x):\n",
    "    temp_list = list(x)\n",
    "    temp_list = [temp_list.index(i) for i in temp_list if i.isupper()]\n",
    "    return temp_list\n",
    "\n",
    "for x in [\"eDaBiT\", \"eQuINoX\", \"determine\", \"STRIKE\", \"sUn\"]:\n",
    "    print(index_of_caps(x))"
   ]
  },
  {
   "cell_type": "markdown",
   "metadata": {},
   "source": [
    "**Question5**\n",
    "<br>Using list comprehensions, create a function that finds all even numbers from 1 to the given\n",
    "number.\n",
    "<br>**Examples**\n",
    "<br>find_even_nums(8) ➞ [2, 4, 6, 8]\n",
    "<br>find_even_nums(4) ➞ [2, 4]\n",
    "<br>find_even_nums(2) ➞ [2]"
   ]
  },
  {
   "cell_type": "markdown",
   "metadata": {},
   "source": [
    "**Answer:**"
   ]
  },
  {
   "cell_type": "code",
   "execution_count": 13,
   "metadata": {},
   "outputs": [
    {
     "name": "stdout",
     "output_type": "stream",
     "text": [
      "[2, 4, 6, 8]\n",
      "[2, 4]\n",
      "[2]\n"
     ]
    }
   ],
   "source": [
    "def find_even_nums(x):\n",
    "    even_list = [i for i in range(1, x+1) if i%2==0]\n",
    "    return even_list\n",
    "\n",
    "for x in [8, 4, 2]:\n",
    "    print(find_even_nums(x))"
   ]
  },
  {
   "cell_type": "code",
   "execution_count": null,
   "metadata": {},
   "outputs": [],
   "source": []
  }
 ],
 "metadata": {
  "kernelspec": {
   "display_name": "Python 3",
   "language": "python",
   "name": "python3"
  },
  "language_info": {
   "codemirror_mode": {
    "name": "ipython",
    "version": 3
   },
   "file_extension": ".py",
   "mimetype": "text/x-python",
   "name": "python",
   "nbconvert_exporter": "python",
   "pygments_lexer": "ipython3",
   "version": "3.8.5"
  }
 },
 "nbformat": 4,
 "nbformat_minor": 4
}

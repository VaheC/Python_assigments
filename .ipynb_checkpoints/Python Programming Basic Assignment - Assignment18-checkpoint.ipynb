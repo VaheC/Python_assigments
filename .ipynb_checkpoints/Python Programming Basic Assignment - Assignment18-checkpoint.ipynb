{
 "cells": [
  {
   "cell_type": "markdown",
   "metadata": {},
   "source": [
    "**Question 1**\n",
    "<br>Create a function that takes a list of non-negative integers and strings and return a new list\n",
    "without the strings.\n",
    "<br>**Examples**\n",
    "<br>filter_list([1, 2, \"a\", \"b\"]) ➞ [1, 2]\n",
    "<br>filter_list([1, \"a\", \"b\", 0, 15]) ➞ [1, 0, 15]\n",
    "<br>filter_list([1, 2, \"aasf\", \"1\", \"123\", 123]) ➞ [1, 2, 123]"
   ]
  },
  {
   "cell_type": "markdown",
   "metadata": {},
   "source": [
    "**Answer:**"
   ]
  },
  {
   "cell_type": "code",
   "execution_count": 6,
   "metadata": {},
   "outputs": [
    {
     "name": "stdout",
     "output_type": "stream",
     "text": [
      "[1, 2]\n",
      "[1, 0, 15]\n",
      "[1, 2, 123]\n"
     ]
    }
   ],
   "source": [
    "def filter_list(x):\n",
    "    x = [i for i in x if not isinstance(i, str)]\n",
    "    return x\n",
    "\n",
    "for ilist in [[1, 2, \"a\", \"b\"], [1, \"a\", \"b\", 0, 15], [1, 2, \"aasf\", \"1\", \"123\", 123]]:\n",
    "    print(filter_list(ilist))"
   ]
  },
  {
   "cell_type": "markdown",
   "metadata": {},
   "source": [
    "**Question 2**\n",
    "<br>The \"Reverser\" takes a string as input and returns that string in reverse order, with the\n",
    "opposite case.\n",
    "<br>**Examples**\n",
    "<br>reverse(\"Hello World\") ➞ \"DLROw OLLEh\"\n",
    "<br>reverse(\"ReVeRsE\") ➞ \"eSrEvEr\"\n",
    "<br>reverse(\"Radar\") ➞ \"RADAr\""
   ]
  },
  {
   "cell_type": "markdown",
   "metadata": {},
   "source": [
    "**Answer:**"
   ]
  },
  {
   "cell_type": "code",
   "execution_count": 8,
   "metadata": {},
   "outputs": [
    {
     "name": "stdout",
     "output_type": "stream",
     "text": [
      "DLROw OLLEh\n",
      "eSrEvEr\n",
      "RADAr\n"
     ]
    }
   ],
   "source": [
    "def reverse(x):\n",
    "    temp_list = list(x)[::-1]\n",
    "    temp_list = [i.lower() if i.isupper() else i.upper() for i in temp_list]\n",
    "    new_x = ''.join(temp_list)\n",
    "    return new_x\n",
    "\n",
    "for x in [\"Hello World\", \"ReVeRsE\", \"Radar\"]:\n",
    "    print(reverse(x))"
   ]
  },
  {
   "cell_type": "markdown",
   "metadata": {},
   "source": [
    "**Question 3**\n",
    "<br>You can assign variables from lists like this:\n",
    "<br>lst = [1, 2, 3, 4, 5, 6]\n",
    "<br>first = lst[0]\n",
    "<br>middle = lst[1:-1]\n",
    "<br>last = lst[-1]\n",
    "<br>print(first) ➞ outputs 1\n",
    "<br>print(middle) ➞ outputs [2, 3, 4, 5]\n",
    "<br>print(last) ➞ outputs 6\n",
    "<br>With Python 3, you can assign variables from lists in a much more succinct way. Create\n",
    "variables first, middle and last from the given list using destructuring assignment\n",
    "(check the Resources tab for some examples), where:\n",
    "<br>first ➞ 1\n",
    "<br>middle ➞ [2, 3, 4, 5]\n",
    "<br>last ➞ 6\n",
    "<br>Your task is to unpack the list writeyourcodehere into three variables, being first,\n",
    "middle, and last, with middle being everything in between the first and last element. Then\n",
    "print all three variables."
   ]
  },
  {
   "cell_type": "markdown",
   "metadata": {},
   "source": [
    "**Answer:**"
   ]
  },
  {
   "cell_type": "code",
   "execution_count": 11,
   "metadata": {},
   "outputs": [
    {
     "name": "stdout",
     "output_type": "stream",
     "text": [
      "1\n",
      "[2, 3, 4, 5]\n",
      "6\n"
     ]
    }
   ],
   "source": [
    "lst = [1, 2, 3, 4, 5, 6]\n",
    "first, *middle, last = lst\n",
    "print(first) \n",
    "print(middle)\n",
    "print(last)"
   ]
  },
  {
   "cell_type": "markdown",
   "metadata": {},
   "source": [
    "**Question 4**\n",
    "<br>Write a function that calculates the factorial of a number recursively.\n",
    "<br>**Examples**\n",
    "<br>factorial(5) ➞ 120\n",
    "<br>factorial(3) ➞ 6\n",
    "<br>factorial(1) ➞ 1\n",
    "<br>factorial(0) ➞ 1"
   ]
  },
  {
   "cell_type": "markdown",
   "metadata": {},
   "source": [
    "**Answer:**"
   ]
  },
  {
   "cell_type": "code",
   "execution_count": 13,
   "metadata": {},
   "outputs": [
    {
     "name": "stdout",
     "output_type": "stream",
     "text": [
      "120\n",
      "6\n",
      "1\n",
      "1\n"
     ]
    }
   ],
   "source": [
    "def factorial(x):\n",
    "    if x == 0:\n",
    "        return 1\n",
    "    else:\n",
    "        return factorial(x-1) * x\n",
    "    \n",
    "for x in [5, 3, 1, 0]:\n",
    "    print(factorial(x))"
   ]
  },
  {
   "cell_type": "markdown",
   "metadata": {},
   "source": [
    "**Question 5**\n",
    "<br>Write a function that moves all elements of one type to the end of the list.\n",
    "<br>**Examples**\n",
    "<br>move_to_end([1, 3, 2, 4, 4, 1], 1) ➞ [3, 2, 4, 4, 1, 1]\n",
    "<br># Move all the 1s to the end of the array.\n",
    "<br>move_to_end([7, 8, 9, 1, 2, 3, 4], 9) ➞ [7, 8, 1, 2, 3, 4, 9]\n",
    "<br>move_to_end([\"a\", \"a\", \"a\", \"b\"], \"a\") ➞ [\"b\", \"a\", \"a\", \"a\"]"
   ]
  },
  {
   "cell_type": "markdown",
   "metadata": {},
   "source": [
    "**Answer:**"
   ]
  },
  {
   "cell_type": "code",
   "execution_count": 15,
   "metadata": {},
   "outputs": [
    {
     "name": "stdout",
     "output_type": "stream",
     "text": [
      "[3, 2, 4, 4, 1, 1]\n",
      "[7, 8, 1, 2, 3, 4, 9]\n",
      "['b', 'a', 'a', 'a']\n"
     ]
    }
   ],
   "source": [
    "def move_to_end(x_list, x_type):\n",
    "    temp_type_list = [i for i in x_list if i==x_type]\n",
    "    temp_nontype_list = [i for i in x_list if i!=x_type]\n",
    "    temp_nontype_list.extend(temp_type_list)\n",
    "    return temp_nontype_list\n",
    "\n",
    "for i_elem in [([1, 3, 2, 4, 4, 1], 1), ([7, 8, 9, 1, 2, 3, 4], 9), ([\"a\", \"a\", \"a\", \"b\"], \"a\")]:\n",
    "    print(move_to_end(i_elem[0], i_elem[1]))"
   ]
  },
  {
   "cell_type": "code",
   "execution_count": null,
   "metadata": {},
   "outputs": [],
   "source": []
  }
 ],
 "metadata": {
  "kernelspec": {
   "display_name": "Python 3",
   "language": "python",
   "name": "python3"
  },
  "language_info": {
   "codemirror_mode": {
    "name": "ipython",
    "version": 3
   },
   "file_extension": ".py",
   "mimetype": "text/x-python",
   "name": "python",
   "nbconvert_exporter": "python",
   "pygments_lexer": "ipython3",
   "version": "3.8.5"
  }
 },
 "nbformat": 4,
 "nbformat_minor": 4
}

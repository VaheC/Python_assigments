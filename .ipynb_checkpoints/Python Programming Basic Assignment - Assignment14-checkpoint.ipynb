{
 "cells": [
  {
   "cell_type": "markdown",
   "metadata": {},
   "source": [
    "**Question 1:**\n",
    "Define a class with a generator which can iterate the numbers, which are divisible by\n",
    "7, between a given range 0 and n."
   ]
  },
  {
   "cell_type": "markdown",
   "metadata": {},
   "source": [
    "**Answer:**"
   ]
  },
  {
   "cell_type": "code",
   "execution_count": 29,
   "metadata": {},
   "outputs": [
    {
     "name": "stdout",
     "output_type": "stream",
     "text": [
      "0\n",
      "7\n",
      "14\n",
      "21\n",
      "28\n",
      "35\n",
      "42\n",
      "49\n",
      "56\n",
      "63\n",
      "70\n",
      "77\n",
      "84\n",
      "91\n",
      "98\n"
     ]
    }
   ],
   "source": [
    "class SimpleGen():\n",
    "    def __init__(self, n):\n",
    "        self.n = n\n",
    "    def itergen(self):\n",
    "        for i in range(self.n):\n",
    "            if i % 7 == 0:\n",
    "                yield i\n",
    "                \n",
    "x = SimpleGen(n=100)\n",
    "\n",
    "for i in x.itergen():\n",
    "    print(i)"
   ]
  },
  {
   "cell_type": "markdown",
   "metadata": {},
   "source": [
    "**Question 2:**\n",
    "<br>Write a program to compute the frequency of the words from the input. The output\n",
    "should output after sorting the key alphanumerically.\n",
    "<br>Suppose the following input is supplied to the program:\n",
    "<br>New to Python or choosing between Python 2 and Python 3? Read Python 2 or\n",
    "Python 3.\n",
    "<br>Then, the output should be:\n",
    "<br>2:2\n",
    "<br>3.:1\n",
    "<br>3?:1\n",
    "<br>New:1\n",
    "<br>Python:5\n",
    "<br>Read:1\n",
    "<br>and:1\n",
    "<br>between:1\n",
    "<br>choosing:1\n",
    "<br>or:2\n",
    "<br>to:1"
   ]
  },
  {
   "cell_type": "markdown",
   "metadata": {},
   "source": [
    "**Answer:**"
   ]
  },
  {
   "cell_type": "code",
   "execution_count": 17,
   "metadata": {},
   "outputs": [
    {
     "name": "stdout",
     "output_type": "stream",
     "text": [
      "2:2\n",
      "3.:1\n",
      "3?:1\n",
      "New:1\n",
      "Python:5\n",
      "Read:1\n",
      "and:1\n",
      "between:1\n",
      "choosing:1\n",
      "or:2\n",
      "to:1\n"
     ]
    }
   ],
   "source": [
    "txt = \"New to Python or choosing between Python 2 and Python 3? Read Python 2 or Python 3.\"\n",
    "txt_list = txt.split(' ')\n",
    "\n",
    "from collections import Counter\n",
    "\n",
    "count_dict = dict(Counter(txt_list))\n",
    "sorted_list = sorted(count_dict.items(), key = lambda x: x[0])\n",
    "sorted_list = [':'.join([str(j) for j in i]) for i in sorted_list] \n",
    "print('\\n'.join(sorted_list))"
   ]
  },
  {
   "cell_type": "markdown",
   "metadata": {},
   "source": [
    "**Question 3:**\n",
    "Define a class Person and its two child classes: Male and Female. All classes have a\n",
    "method &quot;getGender&quot; which can print &quot;Male&quot; for Male class and &quot;Female&quot; for Female\n",
    "class."
   ]
  },
  {
   "cell_type": "markdown",
   "metadata": {},
   "source": [
    "**Answer:**"
   ]
  },
  {
   "cell_type": "code",
   "execution_count": 1,
   "metadata": {},
   "outputs": [
    {
     "name": "stdout",
     "output_type": "stream",
     "text": [
      "Male\n",
      "Female\n"
     ]
    }
   ],
   "source": [
    "class Person():\n",
    "    def __init__(self):\n",
    "        pass\n",
    "    def getGender(self):\n",
    "        pass\n",
    "    \n",
    "class Male(Person):\n",
    "    def __init__(self):\n",
    "        pass\n",
    "    \n",
    "    def getGender(self):\n",
    "        print(\"Male\")\n",
    "        \n",
    "class Female(Person):\n",
    "    def __init__(self):\n",
    "        pass\n",
    "    \n",
    "    def getGender(self):\n",
    "        print(\"Female\")\n",
    "        \n",
    "male = Male()\n",
    "male.getGender()\n",
    "\n",
    "female = Female()\n",
    "female.getGender()"
   ]
  },
  {
   "cell_type": "markdown",
   "metadata": {},
   "source": [
    "**Question 4:**\n",
    "Please write a program to generate all sentences where subject is in [&quot;I&quot;, &quot;You&quot;] and\n",
    "verb is in [&quot;Play&quot;, &quot;Love&quot;] and the object is in [&quot;Hockey&quot;,&quot;Football&quot;]."
   ]
  },
  {
   "cell_type": "markdown",
   "metadata": {},
   "source": [
    "**Answer:**"
   ]
  },
  {
   "cell_type": "code",
   "execution_count": 2,
   "metadata": {},
   "outputs": [
    {
     "name": "stdout",
     "output_type": "stream",
     "text": [
      "I play hockey.\n",
      "I play football.\n",
      "I love hockey.\n",
      "I love football.\n",
      "You play hockey.\n",
      "You play football.\n",
      "You love hockey.\n",
      "You love football.\n"
     ]
    }
   ],
   "source": [
    "for subject in [\"I\", \"You\"]:\n",
    "    for verb in [\"Play\", \"Love\"]:\n",
    "        for objec in [\"Hockey\",\"Football\"]:\n",
    "            print(f\"{subject} {verb.lower()} {objec.lower()}.\")"
   ]
  },
  {
   "cell_type": "markdown",
   "metadata": {},
   "source": [
    "**Question 5:**\n",
    "Please write a program to compress and decompress the string \"hello world!hello\n",
    "world!hello world!hello world!\"."
   ]
  },
  {
   "cell_type": "markdown",
   "metadata": {},
   "source": [
    "**Answer:**"
   ]
  },
  {
   "cell_type": "code",
   "execution_count": 7,
   "metadata": {},
   "outputs": [
    {
     "name": "stdout",
     "output_type": "stream",
     "text": [
      "b'x\\x9c\\xcbH\\xcd\\xc9\\xc9W(\\xcf/\\xcaIQ\\xcc \\x82\\r\\x00\\xbd[\\x11\\xf5'\n",
      "b'hello world!hello world!hello world!hello world!'\n"
     ]
    }
   ],
   "source": [
    "import zlib\n",
    "enc_text = 'hello world!hello world!hello world!hello world!'.encode()\n",
    "dec_text = zlib.compress(enc_text)\n",
    "print(dec_text)\n",
    "print(zlib.decompress(dec_text))"
   ]
  },
  {
   "cell_type": "markdown",
   "metadata": {},
   "source": [
    "**Question 6:**\n",
    "Please write a binary search function which searches an item in a sorted list. The\n",
    "function should return the index of element to be searched in the list."
   ]
  },
  {
   "cell_type": "markdown",
   "metadata": {},
   "source": [
    "**Answer:**"
   ]
  },
  {
   "cell_type": "code",
   "execution_count": 25,
   "metadata": {},
   "outputs": [
    {
     "data": {
      "text/plain": [
       "14"
      ]
     },
     "execution_count": 25,
     "metadata": {},
     "output_type": "execute_result"
    }
   ],
   "source": [
    "def binary_search(searched_list, search_elem):\n",
    "    list_len = 1\n",
    "    add_index = 0 \n",
    "    while list_len != 0:\n",
    "        if len(searched_list) % 2 == 0:\n",
    "            list_middle = int(len(searched_list)/2) - 1\n",
    "        else:\n",
    "            list_middle = int(len(searched_list)/2)\n",
    "\n",
    "        if search_elem == searched_list[list_middle]:\n",
    "            search_index = list_middle + add_index\n",
    "            break\n",
    "        else:\n",
    "            if search_elem > searched_list[list_middle]:\n",
    "                searched_list = searched_list[list_middle+1:]\n",
    "                add_index += list_middle + 1\n",
    "            else:\n",
    "                searched_list = searched_list[:list_middle]\n",
    "                add_index += 0\n",
    "        list_len = len(searched_list)\n",
    "    return search_index\n",
    "\n",
    "test_list = [10, 12, 14, 25, 87, 101, 107]\n",
    "\n",
    "search_index = binary_search(searched_list=test_list, search_elem=14)\n",
    "    \n",
    "test_list[search_index]"
   ]
  },
  {
   "cell_type": "code",
   "execution_count": null,
   "metadata": {},
   "outputs": [],
   "source": []
  }
 ],
 "metadata": {
  "kernelspec": {
   "display_name": "Python 3",
   "language": "python",
   "name": "python3"
  },
  "language_info": {
   "codemirror_mode": {
    "name": "ipython",
    "version": 3
   },
   "file_extension": ".py",
   "mimetype": "text/x-python",
   "name": "python",
   "nbconvert_exporter": "python",
   "pygments_lexer": "ipython3",
   "version": "3.8.5"
  }
 },
 "nbformat": 4,
 "nbformat_minor": 4
}

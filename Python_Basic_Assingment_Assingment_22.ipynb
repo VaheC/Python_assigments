{
 "cells": [
  {
   "cell_type": "markdown",
   "metadata": {},
   "source": [
    "**1.** What is the result of the code, and explain?\n",
    "\n",
    "\\>>> X = 'iNeuron'\n",
    "<br>\\>>> def func():\n",
    "<br>print(X)\n",
    "\n",
    "<br>\\>>> func()"
   ]
  },
  {
   "cell_type": "markdown",
   "metadata": {},
   "source": [
    "**Answer:** 'iNeuron', the function prints the value of X global variable"
   ]
  },
  {
   "cell_type": "code",
   "execution_count": 1,
   "metadata": {},
   "outputs": [
    {
     "name": "stdout",
     "output_type": "stream",
     "text": [
      "iNeuron\n"
     ]
    }
   ],
   "source": [
    "X = 'iNeuron'\n",
    "def func():\n",
    "    print(X)\n",
    "    \n",
    "func()"
   ]
  },
  {
   "cell_type": "markdown",
   "metadata": {},
   "source": [
    "**2.** What is the result of the code, and explain?\n",
    "\n",
    "<br>\\>>> X = 'iNeuron'\n",
    "<br>\\>>> def func():\n",
    "<br>X = 'NII'\n",
    "\n",
    "<br>\\>>> func()\n",
    "<br>\\>>> print(X)"
   ]
  },
  {
   "cell_type": "markdown",
   "metadata": {},
   "source": [
    "**Answer:** func() prints nothing as it neither returns nor prints anything by construction.\n",
    "print(X) prints \"iNeuron\" as the value of global variable X has not been changed outside func()"
   ]
  },
  {
   "cell_type": "code",
   "execution_count": 5,
   "metadata": {
    "code_folding": []
   },
   "outputs": [
    {
     "name": "stdout",
     "output_type": "stream",
     "text": [
      "None\n",
      "iNeuron\n"
     ]
    }
   ],
   "source": [
    "X = 'iNeuron'\n",
    "\n",
    "def func():\n",
    "    X = 'NII'\n",
    "    \n",
    "print(func())\n",
    "\n",
    "print(X)"
   ]
  },
  {
   "cell_type": "markdown",
   "metadata": {},
   "source": [
    "**3.** What does this code print, and why?\n",
    "\n",
    "<br>\\>>> X = 'iNeuron'\n",
    "<br>\\>>> def func():\n",
    "<br>X = 'NI'\n",
    "<br>print(X)\n",
    "\n",
    "<br>\\>>> func()\n",
    "<br>\\>>> print(X)"
   ]
  },
  {
   "cell_type": "markdown",
   "metadata": {},
   "source": [
    "**Answer:** func() prints 'NI' as X has been assigned to that value inside it and print(X) outputs 'iNeuron' because its value has not been changed outside func()."
   ]
  },
  {
   "cell_type": "code",
   "execution_count": 8,
   "metadata": {},
   "outputs": [
    {
     "name": "stdout",
     "output_type": "stream",
     "text": [
      "NI\n",
      "iNeuron\n"
     ]
    }
   ],
   "source": [
    "X = 'iNeuron'\n",
    "\n",
    "def func():\n",
    "    X = 'NI'\n",
    "    print(X)\n",
    "    \n",
    "func()\n",
    "print(X)"
   ]
  },
  {
   "cell_type": "markdown",
   "metadata": {},
   "source": [
    "**4.** What output does this code produce? Why?\n",
    "\n",
    "<br>\\>>> X = 'iNeuron'\n",
    "<br>\\>>> def func():\n",
    "<br>global X\n",
    "<br>X = 'NI'\n",
    "\n",
    "<br>\\>>> func()\n",
    "<br>\\>>> print(X)"
   ]
  },
  {
   "cell_type": "markdown",
   "metadata": {},
   "source": [
    "**Answer:** func() outputs nothing by construction but changes the value of the global variable X.\n",
    "Then print(X) outputs 'NI' as the value of X has been changed."
   ]
  },
  {
   "cell_type": "code",
   "execution_count": 9,
   "metadata": {},
   "outputs": [
    {
     "name": "stdout",
     "output_type": "stream",
     "text": [
      "None\n",
      "NI\n"
     ]
    }
   ],
   "source": [
    "X = 'iNeuron'\n",
    "\n",
    "def func():\n",
    "    global X\n",
    "    X = 'NI'\n",
    "    \n",
    "print(func())\n",
    "print(X)"
   ]
  },
  {
   "cell_type": "markdown",
   "metadata": {},
   "source": [
    "**5.** What about this code—what’s the output, and why?\n",
    "\n",
    "<br>\\>>> X = 'iNeuron'\n",
    "<br>\\>>> def func():\n",
    "<br>X = 'NI'\n",
    "<br>def nested():\n",
    "<br>print(X)\n",
    "<br>nested()\n",
    "\n",
    "<br>\\>>> func()\n",
    "<br>\\>>> X"
   ]
  },
  {
   "cell_type": "markdown",
   "metadata": {},
   "source": [
    "**Answer:** func() prints 'NI' as X has been assigned to that value and its nested nested() function prints out X by construction.\n",
    "X returns 'iNeuron', as its value has not been changed outside func()."
   ]
  },
  {
   "cell_type": "code",
   "execution_count": 11,
   "metadata": {},
   "outputs": [
    {
     "name": "stdout",
     "output_type": "stream",
     "text": [
      "NI\n"
     ]
    },
    {
     "data": {
      "text/plain": [
       "'iNeuron'"
      ]
     },
     "execution_count": 11,
     "metadata": {},
     "output_type": "execute_result"
    }
   ],
   "source": [
    "X = 'iNeuron'\n",
    "\n",
    "def func():\n",
    "    X = 'NI'\n",
    "    def nested():\n",
    "        print(X)\n",
    "    nested()\n",
    "    \n",
    "func()\n",
    "X"
   ]
  },
  {
   "cell_type": "markdown",
   "metadata": {},
   "source": [
    "**6.** How about this code: what is its output in Python 3, and explain?\n",
    "\n",
    "<br>\\>>> def func():\n",
    "<br>X = 'NI'\n",
    "<br>def nested():\n",
    "<br>nonlocal X\n",
    "<br>X = 'Spam'\n",
    "<br>nested()\n",
    "<br>print(X)\n",
    "\n",
    "<br>\\>>> func()"
   ]
  },
  {
   "cell_type": "markdown",
   "metadata": {},
   "source": [
    "**Answer:** func() prints out 'Spam' as the value of X has been changed twice: once inside func() and once inside nested function\n",
    "nested(). We can also see that inside nested() it is declared that X is not local variable which allows to change the value of X."
   ]
  },
  {
   "cell_type": "code",
   "execution_count": 13,
   "metadata": {},
   "outputs": [
    {
     "name": "stdout",
     "output_type": "stream",
     "text": [
      "Spam\n"
     ]
    }
   ],
   "source": [
    "def func():\n",
    "    X = 'NI'\n",
    "    def nested():\n",
    "        nonlocal X\n",
    "        X = 'Spam'\n",
    "    nested()\n",
    "    print(X)\n",
    "    \n",
    "func()"
   ]
  },
  {
   "cell_type": "code",
   "execution_count": null,
   "metadata": {},
   "outputs": [],
   "source": []
  }
 ],
 "metadata": {
  "kernelspec": {
   "display_name": "Python 3",
   "language": "python",
   "name": "python3"
  },
  "language_info": {
   "codemirror_mode": {
    "name": "ipython",
    "version": 3
   },
   "file_extension": ".py",
   "mimetype": "text/x-python",
   "name": "python",
   "nbconvert_exporter": "python",
   "pygments_lexer": "ipython3",
   "version": "3.8.5"
  }
 },
 "nbformat": 4,
 "nbformat_minor": 4
}

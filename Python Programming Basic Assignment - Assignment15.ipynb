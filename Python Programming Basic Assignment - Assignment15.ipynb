{
 "cells": [
  {
   "cell_type": "markdown",
   "metadata": {},
   "source": [
    "**Question 1:**\n",
    "<br>Please write a program using generator to print the numbers which can be divisible by 5 and\n",
    "7 between 0 and n in comma separated form while n is input by console.\n",
    "<br>Example:\n",
    "<br>If the following n is given as input to the program:\n",
    "<br>100\n",
    "<br>Then, the output of the program should be:\n",
    "<br>0,35,70"
   ]
  },
  {
   "cell_type": "markdown",
   "metadata": {},
   "source": [
    "**Answer:**"
   ]
  },
  {
   "cell_type": "code",
   "execution_count": 10,
   "metadata": {},
   "outputs": [
    {
     "name": "stdout",
     "output_type": "stream",
     "text": [
      "Please input n: 100\n",
      "0, 35, 70\n"
     ]
    }
   ],
   "source": [
    "n = int(input(\"Please input n: \"))\n",
    "\n",
    "def print_numbers(n):\n",
    "    number_list = []\n",
    "    for i in range(n):\n",
    "        if i % 5 == 0 and i % 7 == 0:\n",
    "            number_list.append(str(i))\n",
    "        else:\n",
    "            pass\n",
    "    yield ', '.join(number_list)\n",
    "        \n",
    "for i in print_numbers(n=n):\n",
    "    print(i)"
   ]
  },
  {
   "cell_type": "markdown",
   "metadata": {},
   "source": [
    "**Question 2:**\n",
    "<br>Please write a program using generator to print the even numbers between 0 and n in comma\n",
    "separated form while n is input by console.\n",
    "<br>Example:\n",
    "<br>If the following n is given as input to the program:\n",
    "<br>10\n",
    "<br>Then, the output of the program should be:\n",
    "<br>0,2,4,6,8,10"
   ]
  },
  {
   "cell_type": "markdown",
   "metadata": {},
   "source": [
    "**Answer:**"
   ]
  },
  {
   "cell_type": "code",
   "execution_count": 12,
   "metadata": {},
   "outputs": [
    {
     "name": "stdout",
     "output_type": "stream",
     "text": [
      "Please input n: 10\n",
      "0, 2, 4, 6, 8, 10\n"
     ]
    }
   ],
   "source": [
    "n = int(input(\"Please input n: \"))\n",
    "\n",
    "def print_even_numbers(n):\n",
    "    number_list = []\n",
    "    for i in range(n+1):\n",
    "        if i % 2 == 0:\n",
    "            number_list.append(str(i))\n",
    "        else:\n",
    "            pass\n",
    "    yield ', '.join(number_list)\n",
    "        \n",
    "for i in print_even_numbers(n=n):\n",
    "    print(i)"
   ]
  },
  {
   "cell_type": "markdown",
   "metadata": {},
   "source": [
    "**Question 3:**\n",
    "<br>The Fibonacci Sequence is computed based on the following formula:\n",
    "<br>f(n)=0 if n=0\n",
    "<br>f(n)=1 if n=1\n",
    "<br>f(n)=f(n-1)+f(n-2) if n>1\n",
    "<br>Please write a program using list comprehension to print the Fibonacci Sequence in comma\n",
    "separated form with a given n input by console.\n",
    "<br>Example:\n",
    "<br>If the following n is given as input to the program:\n",
    "<br> 7\n",
    "<br>Then, the output of the program should be:\n",
    "<br>0,1,1,2,3,5,8,13"
   ]
  },
  {
   "cell_type": "markdown",
   "metadata": {},
   "source": [
    "**Answer:**"
   ]
  },
  {
   "cell_type": "code",
   "execution_count": 16,
   "metadata": {},
   "outputs": [
    {
     "name": "stdout",
     "output_type": "stream",
     "text": [
      "0, 1, 1, 2, 3, 5, 8, 13\n"
     ]
    }
   ],
   "source": [
    "n = 7\n",
    "\n",
    "def fib_seq(n):\n",
    "    if n == 0:\n",
    "        return 0\n",
    "    elif n == 1:\n",
    "        return 1\n",
    "    else:\n",
    "        return fib_seq(n-1) + fib_seq(n-2)\n",
    "    \n",
    "print(', '.join([str(fib_seq(i)) for i in range(8)]))"
   ]
  },
  {
   "cell_type": "markdown",
   "metadata": {},
   "source": [
    "**Question 4:**\n",
    "<br>Assuming that we have some email addresses in the \"username@companyname.com\" format,\n",
    "please write program to print the user name of a given email address. Both user names and\n",
    "company names are composed of letters only.\n",
    "<br>Example:\n",
    "<br>If the following email address is given as input to the program:\n",
    "<br>john@google.com\n",
    "<br>Then, the output of the program should be:\n",
    "<br>john"
   ]
  },
  {
   "cell_type": "markdown",
   "metadata": {},
   "source": [
    "**Answer:**"
   ]
  },
  {
   "cell_type": "code",
   "execution_count": 18,
   "metadata": {},
   "outputs": [
    {
     "data": {
      "text/plain": [
       "'john'"
      ]
     },
     "execution_count": 18,
     "metadata": {},
     "output_type": "execute_result"
    }
   ],
   "source": [
    "import re\n",
    "\n",
    "email_address = \"john@google.com\"\n",
    "re.findall(r'([aA-zZ]+)\\@', email_address)[0]"
   ]
  },
  {
   "cell_type": "markdown",
   "metadata": {},
   "source": [
    "**Question 5:**\n",
    "<br>Define a class named Shape and its subclass Square. The Square class has an init function\n",
    "which takes a length as argument. Both classes have a area function which can print the area\n",
    "of the shape where Shape's area is 0 by default."
   ]
  },
  {
   "cell_type": "markdown",
   "metadata": {},
   "source": [
    "**Answer:**"
   ]
  },
  {
   "cell_type": "code",
   "execution_count": 24,
   "metadata": {},
   "outputs": [
    {
     "name": "stdout",
     "output_type": "stream",
     "text": [
      "0\n"
     ]
    },
    {
     "data": {
      "text/plain": [
       "4"
      ]
     },
     "execution_count": 24,
     "metadata": {},
     "output_type": "execute_result"
    }
   ],
   "source": [
    "class Shape():\n",
    "    def __init__(self):\n",
    "        pass\n",
    "    \n",
    "    def area(self):\n",
    "        return 0\n",
    "    \n",
    "class Square(Shape):\n",
    "    def __init__(self, length):\n",
    "        self.length = length\n",
    "        \n",
    "    def area(self):\n",
    "        return self.length ** 2\n",
    "        \n",
    "shape = Shape()\n",
    "print(shape.area())\n",
    "\n",
    "square = Square(length=2)\n",
    "square.area()"
   ]
  },
  {
   "cell_type": "code",
   "execution_count": null,
   "metadata": {},
   "outputs": [],
   "source": []
  }
 ],
 "metadata": {
  "kernelspec": {
   "display_name": "Python 3",
   "language": "python",
   "name": "python3"
  },
  "language_info": {
   "codemirror_mode": {
    "name": "ipython",
    "version": 3
   },
   "file_extension": ".py",
   "mimetype": "text/x-python",
   "name": "python",
   "nbconvert_exporter": "python",
   "pygments_lexer": "ipython3",
   "version": "3.8.5"
  }
 },
 "nbformat": 4,
 "nbformat_minor": 4
}

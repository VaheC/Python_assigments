{
 "cells": [
  {
   "cell_type": "markdown",
   "metadata": {},
   "source": [
    "**1.** Write a Python program to check if the given number is a Disarium Number?"
   ]
  },
  {
   "cell_type": "markdown",
   "metadata": {},
   "source": [
    "**Answer:**"
   ]
  },
  {
   "cell_type": "code",
   "execution_count": 11,
   "metadata": {},
   "outputs": [
    {
     "name": "stdout",
     "output_type": "stream",
     "text": [
      "175 is a Disarium Number.\n"
     ]
    }
   ],
   "source": [
    "n = 175\n",
    "\n",
    "power_sum = 0\n",
    "for i in range(1, len(str(n))+1):\n",
    "    power_sum += int(str(n)[i-1]) ** i\n",
    "    \n",
    "if power_sum == n:\n",
    "    print(f\"{n} is a Disarium Number.\")\n",
    "else:\n",
    "    print(f\"{n} is not a Disarium Number.\")"
   ]
  },
  {
   "cell_type": "markdown",
   "metadata": {},
   "source": [
    "**2.** Write a Python program to print all disarium numbers between 1 to 100?"
   ]
  },
  {
   "cell_type": "markdown",
   "metadata": {},
   "source": [
    "**Answer:**"
   ]
  },
  {
   "cell_type": "code",
   "execution_count": 12,
   "metadata": {},
   "outputs": [
    {
     "name": "stdout",
     "output_type": "stream",
     "text": [
      "1\n",
      "2\n",
      "3\n",
      "4\n",
      "5\n",
      "6\n",
      "7\n",
      "8\n",
      "9\n",
      "89\n"
     ]
    }
   ],
   "source": [
    "for n in range(1, 101):\n",
    "    power_sum = 0\n",
    "    for i in range(1, len(str(n))+1):\n",
    "        power_sum += int(str(n)[i-1]) ** i\n",
    "\n",
    "    if power_sum == n:\n",
    "        print(n)\n",
    "    else:\n",
    "        pass"
   ]
  },
  {
   "cell_type": "markdown",
   "metadata": {},
   "source": [
    "**3.** Write a Python program to check if the given number is Happy Number?"
   ]
  },
  {
   "cell_type": "markdown",
   "metadata": {},
   "source": [
    "**Answer:**"
   ]
  },
  {
   "cell_type": "code",
   "execution_count": 33,
   "metadata": {},
   "outputs": [
    {
     "name": "stdout",
     "output_type": "stream",
     "text": [
      "97 is a happy number.\n"
     ]
    }
   ],
   "source": [
    "n = 97\n",
    "\n",
    "number_list = []\n",
    "repeated_number = False\n",
    "number_list.append(n)\n",
    "\n",
    "while not repeated_number:\n",
    "    new_n = 0\n",
    "    for i in range(len(str(number_list[-1]))):\n",
    "        new_n += int(str(number_list[-1])[i]) ** 2\n",
    "    \n",
    "    if len(number_list) == 0:\n",
    "        if new_n != 1:\n",
    "            number_list.append(new_n)\n",
    "        else:\n",
    "            repeated_number = True\n",
    "    else:\n",
    "        if new_n in number_list or new_n == 1:\n",
    "            repeated_number = True\n",
    "        else:\n",
    "            number_list.append(new_n)\n",
    "\n",
    "            \n",
    "if new_n == 1:\n",
    "    print(f\"{n} is a happy number.\")\n",
    "else:\n",
    "    print(f\"{n} is not a happy number.\")"
   ]
  },
  {
   "cell_type": "markdown",
   "metadata": {},
   "source": [
    "**4.** Write a Python program to print all happy numbers between 1 and 100?"
   ]
  },
  {
   "cell_type": "markdown",
   "metadata": {},
   "source": [
    "**Answer:**"
   ]
  },
  {
   "cell_type": "code",
   "execution_count": 35,
   "metadata": {},
   "outputs": [
    {
     "name": "stdout",
     "output_type": "stream",
     "text": [
      "1\n",
      "7\n",
      "10\n",
      "13\n",
      "19\n",
      "23\n",
      "28\n",
      "31\n",
      "32\n",
      "44\n",
      "49\n",
      "68\n",
      "70\n",
      "79\n",
      "82\n",
      "86\n",
      "91\n",
      "94\n",
      "97\n",
      "100\n"
     ]
    }
   ],
   "source": [
    "for n in range(1, 101):\n",
    "\n",
    "    number_list = []\n",
    "    repeated_number = False\n",
    "    number_list.append(n)\n",
    "\n",
    "    while not repeated_number:\n",
    "        new_n = 0\n",
    "        for i in range(len(str(number_list[-1]))):\n",
    "            new_n += int(str(number_list[-1])[i]) ** 2\n",
    "\n",
    "        if len(number_list) == 0:\n",
    "            if new_n != 1:\n",
    "                number_list.append(new_n)\n",
    "            else:\n",
    "                repeated_number = True\n",
    "        else:\n",
    "            if new_n in number_list or new_n == 1:\n",
    "                repeated_number = True\n",
    "            else:\n",
    "                number_list.append(new_n)\n",
    "\n",
    "    if new_n == 1:\n",
    "        print(n)"
   ]
  },
  {
   "cell_type": "markdown",
   "metadata": {},
   "source": [
    "**5.** Write a Python program to determine whether the given number is a Harshad Number?"
   ]
  },
  {
   "cell_type": "markdown",
   "metadata": {},
   "source": [
    "**Answer:**"
   ]
  },
  {
   "cell_type": "code",
   "execution_count": 40,
   "metadata": {},
   "outputs": [
    {
     "name": "stdout",
     "output_type": "stream",
     "text": [
      "171 is a Harshad Number.\n"
     ]
    }
   ],
   "source": [
    "n = 171\n",
    "\n",
    "digit_sum = 0\n",
    "for i in range(len(str(n))):\n",
    "    digit_sum += int(str(n)[i])\n",
    "    \n",
    "if n % digit_sum == 0:\n",
    "    print(f\"{n} is a Harshad Number.\")\n",
    "else:\n",
    "    print(f\"{n} is not a Harshad Number.\")"
   ]
  },
  {
   "cell_type": "markdown",
   "metadata": {},
   "source": [
    "**6.** Write a Python program to print all pronic numbers between 1 and 100?"
   ]
  },
  {
   "cell_type": "markdown",
   "metadata": {},
   "source": [
    "**Answer:**"
   ]
  },
  {
   "cell_type": "code",
   "execution_count": 44,
   "metadata": {},
   "outputs": [
    {
     "name": "stdout",
     "output_type": "stream",
     "text": [
      "2\n",
      "6\n",
      "12\n",
      "20\n",
      "30\n",
      "42\n",
      "56\n",
      "72\n",
      "90\n"
     ]
    }
   ],
   "source": [
    "for n in range(1, 101):\n",
    "    if n == 0:\n",
    "        print(n)\n",
    "    else:\n",
    "        for i in range(1, n):\n",
    "            if n % i == 0:\n",
    "                if i * (i + 1) == n:\n",
    "                    is_pronic = True\n",
    "                    break\n",
    "                else:\n",
    "                    pass\n",
    "            else:\n",
    "                is_pronic = False\n",
    "        if is_pronic:\n",
    "            print(n)\n",
    "        else:\n",
    "            pass"
   ]
  },
  {
   "cell_type": "code",
   "execution_count": null,
   "metadata": {},
   "outputs": [],
   "source": []
  }
 ],
 "metadata": {
  "kernelspec": {
   "display_name": "Python 3",
   "language": "python",
   "name": "python3"
  },
  "language_info": {
   "codemirror_mode": {
    "name": "ipython",
    "version": 3
   },
   "file_extension": ".py",
   "mimetype": "text/x-python",
   "name": "python",
   "nbconvert_exporter": "python",
   "pygments_lexer": "ipython3",
   "version": "3.8.5"
  }
 },
 "nbformat": 4,
 "nbformat_minor": 4
}

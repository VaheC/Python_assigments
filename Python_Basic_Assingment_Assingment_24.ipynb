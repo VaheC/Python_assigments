{
 "cells": [
  {
   "cell_type": "markdown",
   "metadata": {},
   "source": [
    "**1.** What is the relationship between def statements and lambda expressions ?"
   ]
  },
  {
   "cell_type": "markdown",
   "metadata": {},
   "source": [
    "**Answer:** They allow to define a function."
   ]
  },
  {
   "cell_type": "markdown",
   "metadata": {},
   "source": [
    "**2.** What is the benefit of lambda?"
   ]
  },
  {
   "cell_type": "markdown",
   "metadata": {},
   "source": [
    "**Answer:** It allows to create a function in one line and can be used to create anonymous functions. So we can use lambda to pass a function to\n",
    "another function."
   ]
  },
  {
   "cell_type": "markdown",
   "metadata": {},
   "source": [
    "**3.** Compare and contrast map, filter, and reduce."
   ]
  },
  {
   "cell_type": "markdown",
   "metadata": {},
   "source": [
    "**Answer:** All of them have the same structure. Namely they take a function (either user defined or created with lambda) and an iterable (e.g. list).\n",
    "Then they all just apply the function to each element of the iterable. map() returns the changed elements of the iterable according \n",
    "to the function. filter() applies a filter, specified by the function, to the iterable and returns the iterable's values which \n",
    "suffice the filter's condition. Finally reduce() returns a single value depending on the function provided and we need to import it from functools module."
   ]
  },
  {
   "cell_type": "markdown",
   "metadata": {},
   "source": [
    "**4.** What are function annotations, and how are they used?"
   ]
  },
  {
   "cell_type": "markdown",
   "metadata": {},
   "source": [
    "**Answer:** We can use function annotations to define parameters and return types of a function. They don't influence the function's output and can be\n",
    "accessed by \\_\\_annotations\\_\\_ attribute of the function. To define annotations we use : after each parameter in a function and specify an\n",
    "annotation after in string format. Then, after the last parenthesis of the function, we use -> and specify return type. Generally speaking\n",
    "annotations allow to add arbitrary metadata to a function's parameters and return value."
   ]
  },
  {
   "cell_type": "markdown",
   "metadata": {},
   "source": [
    "**5.** What are recursive functions, and how are they used?"
   ]
  },
  {
   "cell_type": "markdown",
   "metadata": {},
   "source": [
    "**Answer:** Recursive functions are functions that can be used inside themselves. They are used to return a function's value based on its previous\n",
    "value. A good example can be a function to calculate a factorial."
   ]
  },
  {
   "cell_type": "markdown",
   "metadata": {},
   "source": [
    "**6.** What are some general design guidelines for coding functions?"
   ]
  },
  {
   "cell_type": "markdown",
   "metadata": {},
   "source": [
    "**Answer:** A function starts with def followed by a space. Then the function's name is specified and next to it we specify parameters in brackets.\n",
    "We finish the firts line with :. The consecutive lines of the function will start with 4 spaces (identation). Generally it's suggested to \n",
    "use docstrings after the first line using triple single/double quotes to specify some info (purpose, arguments, and return values) on the function. Sometimes functions end with return statement, but it can also appear somewhere else in functions' body or not appear at all."
   ]
  },
  {
   "cell_type": "markdown",
   "metadata": {},
   "source": [
    "**7.** Name three or more ways that functions can communicate results to a caller."
   ]
  },
  {
   "cell_type": "markdown",
   "metadata": {},
   "source": [
    "**Answer:** Return statement, using print() function inside a function, and simply changing global variables' values inside a function which doesn't\n",
    "have either return statement or print() function inside"
   ]
  },
  {
   "cell_type": "code",
   "execution_count": null,
   "metadata": {},
   "outputs": [],
   "source": []
  }
 ],
 "metadata": {
  "kernelspec": {
   "display_name": "Python 3",
   "language": "python",
   "name": "python3"
  },
  "language_info": {
   "codemirror_mode": {
    "name": "ipython",
    "version": 3
   },
   "file_extension": ".py",
   "mimetype": "text/x-python",
   "name": "python",
   "nbconvert_exporter": "python",
   "pygments_lexer": "ipython3",
   "version": "3.8.5"
  }
 },
 "nbformat": 4,
 "nbformat_minor": 4
}

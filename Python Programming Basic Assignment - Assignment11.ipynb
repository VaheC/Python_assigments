{
 "cells": [
  {
   "cell_type": "markdown",
   "metadata": {},
   "source": [
    "**1.** Write a Python program to find words which are greater than given length k?"
   ]
  },
  {
   "cell_type": "markdown",
   "metadata": {},
   "source": [
    "**Answer:**"
   ]
  },
  {
   "cell_type": "code",
   "execution_count": 4,
   "metadata": {},
   "outputs": [
    {
     "name": "stdout",
     "output_type": "stream",
     "text": [
      "['elephant', 'ostrich', 'ducknose']\n"
     ]
    },
    {
     "data": {
      "text/plain": [
       "['like', 'early', 'walk']"
      ]
     },
     "execution_count": 4,
     "metadata": {},
     "output_type": "execute_result"
    }
   ],
   "source": [
    "animal_list = ['cat', 'elephant', 'ostrich', 'tiger', 'ducknose', 'dog']\n",
    "k = 5\n",
    "\n",
    "greater_k = [i for i in animal_list if len(i) > k]\n",
    "print(greater_k)\n",
    "\n",
    "# or\n",
    "\n",
    "text = \"I like to get up early and go for a walk.\"\n",
    "k = 3\n",
    "\n",
    "word_list = text.split(' ')\n",
    "greater_k = [i.replace('.', '') for i in word_list if len(i) > k]\n",
    "greater_k"
   ]
  },
  {
   "cell_type": "markdown",
   "metadata": {},
   "source": [
    "**2.** Write a Python program for removing i-th character from a string?"
   ]
  },
  {
   "cell_type": "markdown",
   "metadata": {},
   "source": [
    "**Answer:**"
   ]
  },
  {
   "cell_type": "code",
   "execution_count": 8,
   "metadata": {},
   "outputs": [
    {
     "data": {
      "text/plain": [
       "'I like t get up early and go for a walk.'"
      ]
     },
     "execution_count": 8,
     "metadata": {},
     "output_type": "execute_result"
    }
   ],
   "source": [
    "text = \"I like to get up early and go for a walk.\"\n",
    "k = 8\n",
    "\n",
    "new_text = list(text)\n",
    "new_text.pop(8)\n",
    "new_text = ''.join(new_text)\n",
    "new_text"
   ]
  },
  {
   "cell_type": "markdown",
   "metadata": {},
   "source": [
    "**3.** Write a Python program to split and join a string?"
   ]
  },
  {
   "cell_type": "markdown",
   "metadata": {},
   "source": [
    "**Answer:**"
   ]
  },
  {
   "cell_type": "code",
   "execution_count": 9,
   "metadata": {},
   "outputs": [
    {
     "data": {
      "text/plain": [
       "'I like to get up early and go for a walk.'"
      ]
     },
     "execution_count": 9,
     "metadata": {},
     "output_type": "execute_result"
    }
   ],
   "source": [
    "text = \"I like to get up early and go for a walk.\"\n",
    "\n",
    "' '.join(text.split(' '))"
   ]
  },
  {
   "cell_type": "markdown",
   "metadata": {},
   "source": [
    "**4.** Write a Python to check if a given string is binary string or not?"
   ]
  },
  {
   "cell_type": "markdown",
   "metadata": {},
   "source": [
    "**Answer:**"
   ]
  },
  {
   "cell_type": "code",
   "execution_count": 19,
   "metadata": {},
   "outputs": [
    {
     "name": "stdout",
     "output_type": "stream",
     "text": [
      "The string is not binary.\n"
     ]
    }
   ],
   "source": [
    "text = '010101bin'\n",
    "\n",
    "set_text = set(text)\n",
    "if set_text == {'0', '1'} or set_text == {'0'} or set_text == {'1'}:\n",
    "    print('The string is binary.')\n",
    "else:\n",
    "    print('The string is not binary.')"
   ]
  },
  {
   "cell_type": "markdown",
   "metadata": {},
   "source": [
    "**5.** Write a Python program to find uncommon words from two Strings?"
   ]
  },
  {
   "cell_type": "markdown",
   "metadata": {},
   "source": [
    "**Answer:**"
   ]
  },
  {
   "cell_type": "code",
   "execution_count": 11,
   "metadata": {},
   "outputs": [
    {
     "data": {
      "text/plain": [
       "['early', 'go', 'for', 'walk', 'visit', 'zoo']"
      ]
     },
     "execution_count": 11,
     "metadata": {},
     "output_type": "execute_result"
    }
   ],
   "source": [
    "text1 = \"I like to get up early and go for a walk.\"\n",
    "text2 = \"I like to get up and to visit a zoo.\"\n",
    "\n",
    "list_text1 = text1.replace('.', '').split(' ')\n",
    "list_text2 = text2.replace('.', '').split(' ')\n",
    "uncommon_words = [i for i in list_text1 if i not in list_text2]\n",
    "uncommon_words.extend([i for i in list_text2 if i not in list_text1])\n",
    "uncommon_words"
   ]
  },
  {
   "cell_type": "markdown",
   "metadata": {},
   "source": [
    "**6.** Write a Python to find all duplicate characters in string?"
   ]
  },
  {
   "cell_type": "markdown",
   "metadata": {},
   "source": [
    "**Answer:**"
   ]
  },
  {
   "cell_type": "code",
   "execution_count": 13,
   "metadata": {},
   "outputs": [
    {
     "data": {
      "text/plain": [
       "[' ', 'l', 'k', 'e', 't', 'o', 'g', 'a', 'r']"
      ]
     },
     "execution_count": 13,
     "metadata": {},
     "output_type": "execute_result"
    }
   ],
   "source": [
    "text = \"I like to get up early and go for a walk.\"\n",
    "\n",
    "list_text = list(text)\n",
    "\n",
    "from collections import Counter\n",
    "\n",
    "char_dict = dict(Counter(list_text))\n",
    "[i for i in char_dict if char_dict[i] > 1]"
   ]
  },
  {
   "cell_type": "markdown",
   "metadata": {},
   "source": [
    "**7.** Write a Python Program to check if a string contains any special character?"
   ]
  },
  {
   "cell_type": "markdown",
   "metadata": {},
   "source": [
    "**Answer:**"
   ]
  },
  {
   "cell_type": "code",
   "execution_count": 14,
   "metadata": {},
   "outputs": [
    {
     "name": "stdout",
     "output_type": "stream",
     "text": [
      "The string contains ?.\n"
     ]
    }
   ],
   "source": [
    "text = 'Hello, how are you doing?'\n",
    "\n",
    "char_check = '?'\n",
    "\n",
    "list_text = list(text)\n",
    "\n",
    "if char_check in list_text:\n",
    "    print(f\"The string contains {char_check}.\")\n",
    "else:\n",
    "    print(f\"The string does not contain {char_check}.\")"
   ]
  },
  {
   "cell_type": "code",
   "execution_count": null,
   "metadata": {},
   "outputs": [],
   "source": []
  }
 ],
 "metadata": {
  "kernelspec": {
   "display_name": "Python 3",
   "language": "python",
   "name": "python3"
  },
  "language_info": {
   "codemirror_mode": {
    "name": "ipython",
    "version": 3
   },
   "file_extension": ".py",
   "mimetype": "text/x-python",
   "name": "python",
   "nbconvert_exporter": "python",
   "pygments_lexer": "ipython3",
   "version": "3.8.5"
  }
 },
 "nbformat": 4,
 "nbformat_minor": 4
}

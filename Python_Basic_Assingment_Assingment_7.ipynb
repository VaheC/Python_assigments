{
 "cells": [
  {
   "cell_type": "markdown",
   "metadata": {},
   "source": [
    "**1.** What is the name of the feature responsible for generating Regex objects?"
   ]
  },
  {
   "cell_type": "markdown",
   "metadata": {},
   "source": [
    "**Answer:** re.compile()"
   ]
  },
  {
   "cell_type": "markdown",
   "metadata": {},
   "source": [
    "**2.** Why do raw strings often appear in Regex objects?"
   ]
  },
  {
   "cell_type": "markdown",
   "metadata": {},
   "source": [
    "**Answer:** Raw strings are used because of backslashes: they do not have to be escaped in the raw strings."
   ]
  },
  {
   "cell_type": "markdown",
   "metadata": {},
   "source": [
    "**3.** What is the return value of the search() method?"
   ]
  },
  {
   "cell_type": "markdown",
   "metadata": {},
   "source": [
    "**Answer:** Match object if there is a match and None otherwise."
   ]
  },
  {
   "cell_type": "markdown",
   "metadata": {},
   "source": [
    "**4.** From a Match item, how do you get the actual strings that match the pattern?"
   ]
  },
  {
   "cell_type": "markdown",
   "metadata": {},
   "source": [
    "**Answer:** If x is the match item, we can use x.group(0) to get the strings matching the pattern."
   ]
  },
  {
   "cell_type": "markdown",
   "metadata": {},
   "source": [
    "**5.** In the regex which created from the r'(\\d\\d\\d)-(\\d\\d\\d-\\d\\d\\d\\d)', what does group zero cover?\n",
    "Group 2? Group 1?"
   ]
  },
  {
   "cell_type": "markdown",
   "metadata": {},
   "source": [
    "**Answer:** \n",
    "<br>Group 0 represents a part of a string which matches the compiled expression (r'(\\d\\d\\d)-(\\d\\d\\d-\\d\\d\\d\\d)').\n",
    "<be>Group 1 contains matched text (3 digit expression) corresponding to the first bracket in r'(\\d\\d\\d)-(\\d\\d\\d-\\d\\d\\d\\d)' and group 2 contains matched text related to the second bracket."
   ]
  },
  {
   "cell_type": "markdown",
   "metadata": {},
   "source": [
    "**6.** In standard expression syntax, parentheses and intervals have distinct meanings. How can you tell\n",
    "a regex that you want it to fit real parentheses and periods?"
   ]
  },
  {
   "cell_type": "markdown",
   "metadata": {},
   "source": [
    "**Answer:** We can use \\ before parentheses and periods in a raw expression."
   ]
  },
  {
   "cell_type": "markdown",
   "metadata": {},
   "source": [
    "**7.** The findall() method returns a string list or a list of string tuples. What causes it to return one of\n",
    "the two options?"
   ]
  },
  {
   "cell_type": "markdown",
   "metadata": {},
   "source": [
    "**Answer:** Presence of groups in a raw expression returns a list of string tuples while absence returns a string list."
   ]
  },
  {
   "cell_type": "markdown",
   "metadata": {},
   "source": [
    "**8.** In standard expressions, what does the | character mean?"
   ]
  },
  {
   "cell_type": "markdown",
   "metadata": {},
   "source": [
    "**Answer:** or"
   ]
  },
  {
   "cell_type": "markdown",
   "metadata": {},
   "source": [
    "**9.** In regular expressions, what does the | character stand for?"
   ]
  },
  {
   "cell_type": "markdown",
   "metadata": {},
   "source": [
    "**Answer:** either or"
   ]
  },
  {
   "cell_type": "markdown",
   "metadata": {},
   "source": [
    "**10.** In regular expressions, what is the difference between the + and * characters?"
   ]
  },
  {
   "cell_type": "markdown",
   "metadata": {},
   "source": [
    "**Answer:** + stands for one or more occurrences while * for zero or more occurrences."
   ]
  },
  {
   "cell_type": "markdown",
   "metadata": {},
   "source": [
    "**11.** What is the difference between {4} and {4,5} in regular expression?"
   ]
  },
  {
   "cell_type": "markdown",
   "metadata": {},
   "source": [
    "**Answer:** {4} means exactly 4 times and {4,5} means from 4 to 5 times."
   ]
  },
  {
   "cell_type": "markdown",
   "metadata": {},
   "source": [
    "**12.** What do you mean by the \\d, \\w, and \\s shorthand character classes signify in regular\n",
    "expressions?"
   ]
  },
  {
   "cell_type": "markdown",
   "metadata": {},
   "source": [
    "**Answer:** \n",
    "<br>\\d means digits (numbers from 0-9). \n",
    "<br>\\w means characters from a to Z, digits from 0-9, and the underscore _ character.\n",
    "<br>\\s means white space character."
   ]
  },
  {
   "cell_type": "markdown",
   "metadata": {},
   "source": [
    "**13.** What do means by \\D, \\W, and \\S shorthand character classes signify in regular expressions?"
   ]
  },
  {
   "cell_type": "markdown",
   "metadata": {},
   "source": [
    "**Answer:** \n",
    "<br>\\D means no digits.\n",
    "<br>\\W means no word characters (characters from a to Z, digits from 0-9, and the underscore _ character).\n",
    "<br>\\S means no white space."
   ]
  },
  {
   "cell_type": "markdown",
   "metadata": {},
   "source": [
    "**14.** What is the difference between .\\*? and .\\*?"
   ]
  },
  {
   "cell_type": "markdown",
   "metadata": {},
   "source": [
    "**Answer:** \n",
    "<br>.\\*? matches any characters (except new line) as few as possible. Then it takes more characters as necessary.\n",
    "<br>.\\* matches any characters (except new line) as many as possible. This is /a greedy expression.\n",
    "\n",
    "Example: \n",
    "<br>re.findall(r'A.\\*Z', '2AipZuuAoooZr') returns ['AipZuuAoooZ']\n",
    "<br>re.findall(r'A.\\*?Z', '2AipZuuAoooZr') returns ['AipZ', 'AoooZ']"
   ]
  },
  {
   "cell_type": "markdown",
   "metadata": {},
   "source": [
    "**15.** What is the syntax for matching both numbers and lowercase letters with a character class?"
   ]
  },
  {
   "cell_type": "markdown",
   "metadata": {},
   "source": [
    "**Answer:** [a-z0-9]"
   ]
  },
  {
   "cell_type": "markdown",
   "metadata": {},
   "source": [
    "**16.** What is the procedure for making a normal expression in regex case insensitive?"
   ]
  },
  {
   "cell_type": "markdown",
   "metadata": {},
   "source": [
    "**Answer:**\n",
    "We can either use (?i) in regex pattern or re.IGNORECASE in compile."
   ]
  },
  {
   "cell_type": "markdown",
   "metadata": {},
   "source": [
    "**17.** What does the . character normally match? What does it match if re.DOTALL is passed as 2nd\n",
    "argument in re.compile()?"
   ]
  },
  {
   "cell_type": "markdown",
   "metadata": {},
   "source": [
    "**Answer:** . matches all characters except new line, but re.DOTALL allows it to match new line too."
   ]
  },
  {
   "cell_type": "markdown",
   "metadata": {},
   "source": [
    "**18.** If numReg = re.compile(r'\\d+'), what will numRegex.sub('X', '11 drummers, 10 pipers, five rings, 4\n",
    "hen') return?"
   ]
  },
  {
   "cell_type": "markdown",
   "metadata": {},
   "source": [
    "**Answer:** NameError"
   ]
  },
  {
   "cell_type": "markdown",
   "metadata": {},
   "source": [
    "**19.** What does passing re.VERBOSE as the 2nd argument to re.compile() allow to do?"
   ]
  },
  {
   "cell_type": "markdown",
   "metadata": {},
   "source": [
    "**Answer:** It allows to write more readable and nicer expressions in re.compile()."
   ]
  },
  {
   "cell_type": "markdown",
   "metadata": {},
   "source": [
    "**20.** How would you write a regex that match a number with comma for every three digits? It must\n",
    "match the given following:   \n",
    "<br>'42'\n",
    "<br>'1,234'\n",
    "<br>'6,368,745'\n",
    "<br>but not the following:\n",
    "<br>'12,34,567' (which has only two digits between the commas)\n",
    "<br>'1234' (which lacks commas)"
   ]
  },
  {
   "cell_type": "markdown",
   "metadata": {},
   "source": [
    "**Answer:**"
   ]
  },
  {
   "cell_type": "code",
   "execution_count": 67,
   "metadata": {},
   "outputs": [
    {
     "data": {
      "text/plain": [
       "[['42'], ['1,234'], [], ['6,368,745'], []]"
      ]
     },
     "execution_count": 67,
     "metadata": {},
     "output_type": "execute_result"
    }
   ],
   "source": [
    "import re\n",
    "\n",
    "list_text = ['42', '1,234', '12,34,567', '6,368,745', '1234']\n",
    "\n",
    "[re.findall(r'^\\d{1,3}(?:,\\d{3})*$', text) for text in list_text]"
   ]
  },
  {
   "cell_type": "markdown",
   "metadata": {},
   "source": [
    "**21.** How would you write a regex that matches the full name of someone whose last name is\n",
    "Watanabe? You can assume that the first name that comes before it will always be one word that\n",
    "begins with a capital letter. The regex must match the following\n",
    "<br>'Haruto Watanabe'\n",
    "<br>'Alice Watanabe'\n",
    "<br>'RoboCop Watanabe'\n",
    "<br>but not the following:\n",
    "<br>'haruto Watanabe' (where the first name is not capitalized)\n",
    "<br>'Mr. Watanabe' (where the preceding word has a nonletter character)\n",
    "<br>'Watanabe' (which has no first name)\n",
    "<br>'Haruto watanabe' (where Watanabe is not capitalized)"
   ]
  },
  {
   "cell_type": "markdown",
   "metadata": {},
   "source": [
    "**Answer:**"
   ]
  },
  {
   "cell_type": "code",
   "execution_count": 39,
   "metadata": {},
   "outputs": [
    {
     "data": {
      "text/plain": [
       "['Haruto Watanabe', 'Alice Watanabe', 'RoboCop Watanabe']"
      ]
     },
     "execution_count": 39,
     "metadata": {},
     "output_type": "execute_result"
    }
   ],
   "source": [
    "text = 'Haruto Watanabe, Alice Watanabe, RoboCop Watanabe, haruto Watanabe, Mr. Watanabe, Watanabe, Haruto watanabe'\n",
    "re.findall(r'[A-Z][aA-zZ]+\\sWatanabe', text)"
   ]
  },
  {
   "cell_type": "markdown",
   "metadata": {},
   "source": [
    "**22.** How would you write a regex that matches a sentence where the first word is either Alice, Bob,\n",
    "or Carol; the second word is either eats, pets, or throws; the third word is apples, cats, or baseballs;\n",
    "and the sentence ends with a period? This regex should be case-insensitive. It must match the\n",
    "following:\n",
    "<br>'Alice eats apples.'\n",
    "<br>'Bob pets cats.'\n",
    "<br>'Carol throws baseballs.'\n",
    "<br>'Alice throws Apples.'\n",
    "<br>'BOB EATS CATS.'\n",
    "<br>but not the following:\n",
    "<br>'RoboCop eats apples.'\n",
    "<br>'ALICE THROWS FOOTBALLS.'\n",
    "<br>'Carol eats 7 cats.'"
   ]
  },
  {
   "cell_type": "markdown",
   "metadata": {},
   "source": [
    "**Answer:**"
   ]
  },
  {
   "cell_type": "code",
   "execution_count": 30,
   "metadata": {},
   "outputs": [
    {
     "data": {
      "text/plain": [
       "['Alice eats apples',\n",
       " 'Bob pets cats',\n",
       " 'Carol throws baseballs',\n",
       " 'Alice throws Apples',\n",
       " 'BOB EATS CATS']"
      ]
     },
     "execution_count": 30,
     "metadata": {},
     "output_type": "execute_result"
    }
   ],
   "source": [
    "text = '''Alice eats apples.\n",
    "          Bob pets cats.\n",
    "          Carol throws baseballs.\n",
    "          Alice throws Apples.\n",
    "          BOB EATS CATS.\n",
    "          RoboCop eats apples.\n",
    "          ALICE THROWS FOOTBALLS.\n",
    "          Carol eats 7 cats.\n",
    "       '''\n",
    "\n",
    "x = re.compile(r'(Alice|Bob|Carol)\\s(eats|pets|throws)\\s(apples|cats|baseballs)\\.', re.IGNORECASE)\n",
    "[' '.join(list(i)) for i in x.findall(text)]"
   ]
  },
  {
   "cell_type": "code",
   "execution_count": null,
   "metadata": {},
   "outputs": [],
   "source": []
  }
 ],
 "metadata": {
  "kernelspec": {
   "display_name": "Python 3",
   "language": "python",
   "name": "python3"
  },
  "language_info": {
   "codemirror_mode": {
    "name": "ipython",
    "version": 3
   },
   "file_extension": ".py",
   "mimetype": "text/x-python",
   "name": "python",
   "nbconvert_exporter": "python",
   "pygments_lexer": "ipython3",
   "version": "3.8.5"
  }
 },
 "nbformat": 4,
 "nbformat_minor": 4
}
